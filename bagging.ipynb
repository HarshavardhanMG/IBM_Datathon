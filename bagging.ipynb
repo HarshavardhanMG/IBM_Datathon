{
 "cells": [
  {
   "cell_type": "markdown",
   "metadata": {},
   "source": [
    "Introduction:\n",
    "\n",
    "\n",
    "This code demonstrates the implementation of an ensemble learning model for medical prediction using a combination of XGBoost and Random Forest algorithms. The ensemble is created using a VotingClassifier with soft voting, which combines predictions from both models. The implementation includes both model training and a practical prediction function for real-world use. The code follows a clear structure: data preparation, model training, and evaluation using standard classification metrics. Finally, it provides a user-friendly interface through a prediction function that can be easily used by healthcare professionals."
   ]
  },
  {
   "cell_type": "code",
   "execution_count": 1,
   "metadata": {},
   "outputs": [
    {
     "name": "stdout",
     "output_type": "stream",
     "text": [
      "Classification Report:\n",
      "               precision    recall  f1-score   support\n",
      "\n",
      "           0       0.36      0.14      0.20        63\n",
      "           1       0.84      0.95      0.89       293\n",
      "\n",
      "    accuracy                           0.80       356\n",
      "   macro avg       0.60      0.54      0.55       356\n",
      "weighted avg       0.75      0.80      0.77       356\n",
      "\n",
      "Accuracy: 0.8033707865168539\n"
     ]
    }
   ],
   "source": [
    "from sklearn.ensemble import VotingClassifier\n",
    "from xgboost import XGBClassifier\n",
    "from sklearn.ensemble import RandomForestClassifier\n",
    "from sklearn.model_selection import train_test_split\n",
    "from sklearn.metrics import classification_report, accuracy_score\n",
    "import pandas as pd\n",
    "\n",
    "# Load the dataset\n",
    "df = pd.read_csv('cleaned_data.csv')\n",
    "X = df[['calcium_max', 'creatinine_min', 'aki_stage', 'aniongap_min', 'calcium_min', 'pt_max']]\n",
    "y = df['delay_rrt']\n",
    "\n",
    "# Split the data into training and test sets\n",
    "X_train, X_test, y_train, y_test = train_test_split(X, y, test_size=0.2, random_state=42)\n",
    "\n",
    "# Initialize the models\n",
    "xgb_model = XGBClassifier(eta=0.1, max_depth=3, learning_rate=0.1, n_estimators=500)\n",
    "rf_model = RandomForestClassifier(n_estimators=500, random_state=42)\n",
    "\n",
    "# Combine the XGBoost and Random Forest models using voting\n",
    "voting_model = VotingClassifier(estimators=[('xgb', xgb_model), ('rf', rf_model)], voting='soft')\n",
    "\n",
    "# Train the voting model\n",
    "voting_model.fit(X_train, y_train)\n",
    "\n",
    "# Evaluate the model\n",
    "y_pred = voting_model.predict(X_test)\n",
    "print(\"Classification Report:\\n\", classification_report(y_test, y_pred))\n",
    "print(\"Accuracy:\", accuracy_score(y_test, y_pred))\n"
   ]
  },
  {
   "cell_type": "markdown",
   "metadata": {},
   "source": [
    "Observations:\n",
    "\n",
    "The model achieves a good overall accuracy of 80.3%, making it generally reliable for predictions.\n",
    "\n",
    "There is significant class imbalance in the dataset (293 vs 63 samples), which affects model performance.\n",
    "\n",
    "The model performs excellently for predicting RRT Delays (Class 1) with 84% precision and 95% recall.\n",
    "\n",
    "The model struggles with predicting No RRT Delays (Class 0), showing poor performance with only 14% recall.\n",
    "\n",
    "The weighted average F1-score of 0.77 indicates decent overall performance, but there's room for improvement in handling the minority class."
   ]
  },
  {
   "cell_type": "code",
   "execution_count": 2,
   "metadata": {},
   "outputs": [
    {
     "name": "stdout",
     "output_type": "stream",
     "text": [
      "RRT Delay is not predicted.\n"
     ]
    }
   ],
   "source": [
    "\n",
    "# Function to predict the delay in RRT based on user input\n",
    "def predict_rrt_delay(calcium_max, creatinine_min, aki_stage, aniongap_min, calcium_min, pt_max, model):\n",
    "    # Create a numpy array with the input data\n",
    "    input_data = pd.DataFrame([[calcium_max, creatinine_min, aki_stage, aniongap_min, calcium_min, pt_max]], \n",
    "                              columns=['calcium_max', 'creatinine_min', 'aki_stage', 'aniongap_min', 'calcium_min', 'pt_max'])\n",
    "    \n",
    "    # Use the trained voting model to predict the class (0 or 1)\n",
    "    prediction = model.predict(input_data)\n",
    "    \n",
    "    # Output the result\n",
    "    if prediction[0] == 1:\n",
    "        return \"RRT Delay is predicted.\"\n",
    "    else:\n",
    "        return \"RRT Delay is not predicted.\"\n",
    "    \n",
    "# Example of user input and model prediction\n",
    "result = predict_rrt_delay(\n",
    "    calcium_max=9.2, \n",
    "    creatinine_min=0.3, \n",
    "    aki_stage=2, \n",
    "    aniongap_min=11, \n",
    "    calcium_min=7.7, \n",
    "    pt_max=14.5, \n",
    "    model=voting_model\n",
    ")\n",
    "print(result)\n",
    "    "
   ]
  }
 ],
 "metadata": {
  "kernelspec": {
   "display_name": "Python 3",
   "language": "python",
   "name": "python3"
  },
  "language_info": {
   "codemirror_mode": {
    "name": "ipython",
    "version": 3
   },
   "file_extension": ".py",
   "mimetype": "text/x-python",
   "name": "python",
   "nbconvert_exporter": "python",
   "pygments_lexer": "ipython3",
   "version": "3.11.9"
  }
 },
 "nbformat": 4,
 "nbformat_minor": 2
}
