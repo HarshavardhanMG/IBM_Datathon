{
 "cells": [
  {
   "cell_type": "markdown",
   "metadata": {},
   "source": [
    "Introduction:\n",
    "\n",
    "\n",
    "This code implements a medical prediction system using XGBoost to determine if a patient needs early dialysis. It processes patient data from 'cleaned_data.csv', focusing on key medical parameters like calcium, creatinine, and AKI stage. The pipeline includes data cleaning, SMOTE for class balancing, and hyperparameter tuning via GridSearchCV. The model is trained on 80% of the data and evaluated on the remaining 20%. Finally, it provides a simple prediction function that takes medical parameters as input and returns a recommendation for early dialysis."
   ]
  },
  {
   "cell_type": "code",
   "execution_count": 1,
   "metadata": {},
   "outputs": [
    {
     "name": "stdout",
     "output_type": "stream",
     "text": [
      "Fitting 3 folds for each of 8 candidates, totalling 24 fits\n",
      "Classification Report:\n",
      "               precision    recall  f1-score   support\n",
      "\n",
      "           0       0.39      0.43      0.41        63\n",
      "           1       0.87      0.85      0.86       293\n",
      "\n",
      "    accuracy                           0.78       356\n",
      "   macro avg       0.63      0.64      0.63       356\n",
      "weighted avg       0.79      0.78      0.78       356\n",
      "\n",
      "Early dialysis is recommended.\n"
     ]
    }
   ],
   "source": [
    "import numpy as np\n",
    "import pandas as pd\n",
    "from sklearn.model_selection import train_test_split\n",
    "from sklearn.metrics import classification_report\n",
    "from imblearn.over_sampling import SMOTE\n",
    "from sklearn.model_selection import GridSearchCV\n",
    "import xgboost as xgb\n",
    "\n",
    "# Load the dataset\n",
    "df = pd.read_csv('cleaned_data.csv')\n",
    "\n",
    "# Update features as per the requirement\n",
    "features = ['calcium_max', 'creatinine_min', 'aki_stage', 'aniongap_min', 'calcium_min', 'pt_max']\n",
    "\n",
    "# Drop rows with missing values in the selected columns\n",
    "df_clean = df.dropna(subset=features + ['delay_rrt'])\n",
    "\n",
    "# Splitting data into input features (X) and target (y)\n",
    "X = df_clean[features]\n",
    "y = df_clean['delay_rrt']\n",
    "\n",
    "# Splitting data into training and testing sets (80% train, 20% test)\n",
    "X_train, X_test, y_train, y_test = train_test_split(X, y, test_size=0.2, random_state=42)\n",
    "\n",
    "# Applying SMOTE to balance the dataset\n",
    "smote = SMOTE(random_state=42)\n",
    "X_resampled, y_resampled = smote.fit_resample(X_train, y_train)\n",
    "\n",
    "# Define the XGBoost classifier without early stopping\n",
    "xgb_model = xgb.XGBClassifier(eval_metric='logloss')\n",
    "param_grid = {\n",
    "    'n_estimators': [50, 100],        # Reduced n_estimators range for faster grid search\n",
    "    'max_depth': [3, 5],              # Limited max_depth range\n",
    "    'learning_rate': [0.1],           # Single learning rate for faster search\n",
    "    'subsample': [0.8],               # Single subsample value\n",
    "    'colsample_bytree': [0.8],        # Single colsample_bytree value\n",
    "    'scale_pos_weight': [1, 2]        # Adjusting for class imbalance\n",
    "}\n",
    "\n",
    "# Perform Grid Search with reduced search space and 3-fold CV\n",
    "grid = GridSearchCV(xgb_model, param_grid, cv=3, scoring='precision', verbose=1)\n",
    "grid.fit(X_resampled, y_resampled)\n",
    "\n",
    "# Best hyperparameters and model\n",
    "best_model = grid.best_estimator_\n",
    "\n",
    "# Evaluating the model with the test set\n",
    "y_pred_balanced = best_model.predict(X_test)\n",
    "print(\"Classification Report:\\n\", classification_report(y_test, y_pred_balanced))\n",
    "\n",
    "# Function to predict early dialysis based on user input\n",
    "def predict_early_dialysis(calcium_max, creatinine_min, aki_stage, aniongap_min, calcium_min, pt_max, model):\n",
    "    # Create a numpy array with the input data\n",
    "    input_data = np.array([[calcium_max, creatinine_min, aki_stage, aniongap_min, calcium_min, pt_max]])\n",
    "    \n",
    "    # Use the trained model to predict the class (0 or 1)\n",
    "    prediction = model.predict(input_data)\n",
    "    \n",
    "    # Output the result\n",
    "    if prediction[0] == 1:\n",
    "        return \"Early dialysis is recommended.\"\n",
    "    else:\n",
    "        return \"Early dialysis is not required.\"\n",
    "\n",
    "# Example of user input and model prediction\n",
    "result = predict_early_dialysis(calcium_max=8.5, creatinine_min=1.8, aki_stage=2, aniongap_min=10, calcium_min=7.5, pt_max=12.5, model=best_model)\n",
    "print(result)\n"
   ]
  },
  {
   "cell_type": "markdown",
   "metadata": {},
   "source": [
    "Observations:\n",
    "\n",
    "Strong Class 1 performance (precision: 0.87, recall: 0.85)\n",
    "\n",
    "Poor Class 0 performance (precision: 0.39, recall: 0.43)\n",
    "\n",
    "Significant class imbalance (63:293 samples)\n",
    "\n",
    "Overall accuracy of 0.78\n",
    "\n",
    "Large performance gap between classes (f1-score: 0.41 vs 0.86)"
   ]
  }
 ],
 "metadata": {
  "kernelspec": {
   "display_name": "Python 3",
   "language": "python",
   "name": "python3"
  },
  "language_info": {
   "codemirror_mode": {
    "name": "ipython",
    "version": 3
   },
   "file_extension": ".py",
   "mimetype": "text/x-python",
   "name": "python",
   "nbconvert_exporter": "python",
   "pygments_lexer": "ipython3",
   "version": "3.11.9"
  }
 },
 "nbformat": 4,
 "nbformat_minor": 2
}
