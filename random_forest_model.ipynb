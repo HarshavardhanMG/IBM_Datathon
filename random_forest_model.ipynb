{
  "cells": [
    {
      "cell_type": "markdown",
      "metadata": {
        "id": "Y1OUmxmzn0gW"
      },
      "source": [
        "Library Imports and Setup\n"
      ]
    },
    {
      "cell_type": "code",
      "execution_count": null,
      "metadata": {
        "id": "1oh7nj5gn0gZ"
      },
      "outputs": [],
      "source": [
        "# Import necessary libraries\n",
        "import pandas as pd\n",
        "import numpy as np\n",
        "from sklearn.model_selection import train_test_split, StratifiedKFold, RandomizedSearchCV\n",
        "from sklearn.preprocessing import StandardScaler\n",
        "from sklearn.ensemble import RandomForestClassifier\n",
        "from sklearn.metrics import roc_auc_score, precision_recall_curve, average_precision_score\n",
        "from sklearn.compose import ColumnTransformer\n",
        "from sklearn.preprocessing import OneHotEncoder\n",
        "from sklearn.feature_selection import SelectFromModel\n",
        "from imblearn.over_sampling import SMOTE\n",
        "from imblearn.pipeline import Pipeline\n",
        "from sklearn.metrics import classification_report, confusion_matrix\n",
        "\n"
      ]
    },
    {
      "cell_type": "markdown",
      "metadata": {
        "id": "ve9F_S-0n0gb"
      },
      "source": [
        "Data Loading and Feature Selection"
      ]
    },
    {
      "cell_type": "code",
      "execution_count": null,
      "metadata": {
        "id": "RHHqF6zun0gc"
      },
      "outputs": [],
      "source": [
        "# Load the dataset\n",
        "df = pd.read_csv('/content/cleaned_data.csv')\n",
        "\n",
        "\n"
      ]
    },
    {
      "cell_type": "code",
      "execution_count": null,
      "metadata": {
        "id": "PA87GAmun0gc"
      },
      "outputs": [],
      "source": [
        "# Define features and target\n",
        "X = df.drop(['delay_rrt'], axis=1)\n",
        "y = df['delay_rrt']\n",
        "\n"
      ]
    },
    {
      "cell_type": "markdown",
      "metadata": {
        "id": "yU1sMqd7n0gd"
      },
      "source": [
        "Observation: The code loads a pre-cleaned dataset and separates it into features and target variable. The target variable 'delay_rrt' suggests this is likely a medical prediction task."
      ]
    },
    {
      "cell_type": "markdown",
      "metadata": {
        "id": "RhC2XKo9n0gd"
      },
      "source": [
        "Train-Test Split"
      ]
    },
    {
      "cell_type": "code",
      "execution_count": null,
      "metadata": {
        "id": "8HsC3Co1n0gd"
      },
      "outputs": [],
      "source": [
        "# Split data\n",
        "X_train, X_test, y_train, y_test = train_test_split(X, y, test_size=0.2, random_state=42, stratify=y)\n",
        "\n"
      ]
    },
    {
      "cell_type": "markdown",
      "metadata": {
        "id": "YUMm5lKun0ge"
      },
      "source": [
        "Feature Type Identification\n"
      ]
    },
    {
      "cell_type": "code",
      "execution_count": null,
      "metadata": {
        "id": "oYQ85lLfn0ge"
      },
      "outputs": [],
      "source": [
        "# Identify categorical columns\n",
        "categorical_columns = X_train.select_dtypes(include=['object']).columns\n",
        "numeric_columns = X_train.select_dtypes(include=['float64', 'int64']).columns\n",
        "\n"
      ]
    },
    {
      "cell_type": "markdown",
      "metadata": {
        "id": "LiPgLFLQn0ge"
      },
      "source": [
        "Observation: The code automatically distinguishes between categorical and numerical features in the dataset, which is essential for proper preprocessing of different data types."
      ]
    },
    {
      "cell_type": "markdown",
      "metadata": {
        "id": "uENKo_QNn0gf"
      },
      "source": [
        "Preprocessor Setup"
      ]
    },
    {
      "cell_type": "code",
      "execution_count": null,
      "metadata": {
        "id": "YI2emXZCn0gf"
      },
      "outputs": [],
      "source": [
        "# Create preprocessor\n",
        "preprocessor = ColumnTransformer([\n",
        "    ('num', StandardScaler(), numeric_columns),\n",
        "    ('cat', OneHotEncoder(drop='first', sparse_output=False), categorical_columns)\n",
        "])\n",
        "\n"
      ]
    },
    {
      "cell_type": "markdown",
      "metadata": {
        "id": "qV_bWbVJn0gf"
      },
      "source": [
        "Observation: Sets up different preprocessing methods for numerical and categorical data. Numerical data is standardized, while categorical data is one-hot encoded with safeguards against multicollinearity."
      ]
    },
    {
      "cell_type": "markdown",
      "metadata": {
        "id": "-OZy37vIn0gf"
      },
      "source": [
        " Feature Selection\n"
      ]
    },
    {
      "cell_type": "code",
      "execution_count": null,
      "metadata": {
        "id": "pnZojmWZn0gf"
      },
      "outputs": [],
      "source": [
        "# Create feature selector using Random Forest\n",
        "feature_selector = SelectFromModel(\n",
        "    RandomForestClassifier(n_estimators=100, random_state=42),\n",
        "    max_features=20\n",
        ")\n",
        "\n"
      ]
    },
    {
      "cell_type": "markdown",
      "metadata": {
        "id": "Yq7R-JLhn0gg"
      },
      "source": [
        "Observation: Implements feature selection to reduce dimensionality by keeping only the top 20 most important features, using Random Forest's feature importance as the selection criterion."
      ]
    },
    {
      "cell_type": "markdown",
      "metadata": {
        "id": "0GdIytYgn0gg"
      },
      "source": [
        "Pipeline Creation"
      ]
    },
    {
      "cell_type": "code",
      "execution_count": null,
      "metadata": {
        "id": "4EAMtne8n0gg"
      },
      "outputs": [],
      "source": [
        "# Create pipeline with SMOTE for handling class imbalance\n",
        "pipeline = Pipeline([\n",
        "    ('preprocessor', preprocessor),\n",
        "    ('feature_selector', feature_selector),\n",
        "    ('smote', SMOTE(random_state=42)),\n",
        "    ('classifier', RandomForestClassifier(random_state=42, class_weight='balanced'))\n",
        "])\n",
        "\n"
      ]
    },
    {
      "cell_type": "markdown",
      "metadata": {
        "id": "N_VklqXzn0gg"
      },
      "source": [
        "Observation: Creates a comprehensive machine learning pipeline that handles preprocessing, feature selection, class imbalance, and model training in a sequential, automated manner."
      ]
    },
    {
      "cell_type": "markdown",
      "metadata": {
        "id": "2KS9CsYbn0gh"
      },
      "source": [
        "Hyperparameter Space"
      ]
    },
    {
      "cell_type": "code",
      "execution_count": null,
      "metadata": {
        "id": "pD5VuGImn0gh"
      },
      "outputs": [],
      "source": [
        "# Define a reduced hyperparameter space for RandomizedSearchCV\n",
        "param_distributions = {\n",
        "    'classifier__n_estimators': [100, 200],\n",
        "    'classifier__max_depth': [10, 20, None],\n",
        "    'classifier__min_samples_split': [2, 5],\n",
        "    'classifier__min_samples_leaf': [1, 2],\n",
        "    'classifier__bootstrap': [True, False]\n",
        "}\n",
        "\n"
      ]
    },
    {
      "cell_type": "markdown",
      "metadata": {
        "id": "Rh1lLrHjn0gh"
      },
      "source": [
        "Observation: Defines a focused set of hyperparameters to tune the Random Forest model, including key parameters that affect model complexity and performance."
      ]
    },
    {
      "cell_type": "code",
      "execution_count": null,
      "metadata": {
        "id": "76yKKba6n0gh"
      },
      "outputs": [],
      "source": [
        "# Perform RandomizedSearchCV with cross-validation\n",
        "cv = StratifiedKFold(n_splits=3, shuffle=True, random_state=42)\n",
        "random_search = RandomizedSearchCV(\n",
        "    pipeline,\n",
        "    param_distributions,\n",
        "    n_iter=10,  # Try 10 different combinations\n",
        "    cv=cv,\n",
        "    scoring='roc_auc',\n",
        "    n_jobs=-1,  # Use all available cores\n",
        "    random_state=42\n",
        ")\n",
        "\n"
      ]
    },
    {
      "cell_type": "code",
      "execution_count": null,
      "metadata": {
        "colab": {
          "base_uri": "https://localhost:8080/",
          "height": 482
        },
        "id": "HJgk_RI6n0gi",
        "outputId": "6715d1de-b621-4811-a089-0f1c96035d99"
      },
      "outputs": [
        {
          "output_type": "execute_result",
          "data": {
            "text/plain": [
              "RandomizedSearchCV(cv=StratifiedKFold(n_splits=3, random_state=42, shuffle=True),\n",
              "                   estimator=Pipeline(steps=[('preprocessor',\n",
              "                                              ColumnTransformer(transformers=[('num',\n",
              "                                                                               StandardScaler(),\n",
              "                                                                               Index(['weight', 'aki_stage', 'gender', 'admission_age', 'hematocrit_min',\n",
              "       'hematocrit_max', 'hemoglobin_min', 'hemoglobin_max', 'platelets_min',\n",
              "       'platelets_max', 'wbc_min', 'wbc_max',...\n",
              "                                             ('smote', SMOTE(random_state=42)),\n",
              "                                             ('classifier',\n",
              "                                              RandomForestClassifier(class_weight='balanced',\n",
              "                                                                     random_state=42))]),\n",
              "                   n_jobs=-1,\n",
              "                   param_distributions={'classifier__bootstrap': [True, False],\n",
              "                                        'classifier__max_depth': [10, 20, None],\n",
              "                                        'classifier__min_samples_leaf': [1, 2],\n",
              "                                        'classifier__min_samples_split': [2, 5],\n",
              "                                        'classifier__n_estimators': [100, 200]},\n",
              "                   random_state=42, scoring='roc_auc')"
            ],
            "text/html": [
              "<style>#sk-container-id-1 {\n",
              "  /* Definition of color scheme common for light and dark mode */\n",
              "  --sklearn-color-text: #000;\n",
              "  --sklearn-color-text-muted: #666;\n",
              "  --sklearn-color-line: gray;\n",
              "  /* Definition of color scheme for unfitted estimators */\n",
              "  --sklearn-color-unfitted-level-0: #fff5e6;\n",
              "  --sklearn-color-unfitted-level-1: #f6e4d2;\n",
              "  --sklearn-color-unfitted-level-2: #ffe0b3;\n",
              "  --sklearn-color-unfitted-level-3: chocolate;\n",
              "  /* Definition of color scheme for fitted estimators */\n",
              "  --sklearn-color-fitted-level-0: #f0f8ff;\n",
              "  --sklearn-color-fitted-level-1: #d4ebff;\n",
              "  --sklearn-color-fitted-level-2: #b3dbfd;\n",
              "  --sklearn-color-fitted-level-3: cornflowerblue;\n",
              "\n",
              "  /* Specific color for light theme */\n",
              "  --sklearn-color-text-on-default-background: var(--sg-text-color, var(--theme-code-foreground, var(--jp-content-font-color1, black)));\n",
              "  --sklearn-color-background: var(--sg-background-color, var(--theme-background, var(--jp-layout-color0, white)));\n",
              "  --sklearn-color-border-box: var(--sg-text-color, var(--theme-code-foreground, var(--jp-content-font-color1, black)));\n",
              "  --sklearn-color-icon: #696969;\n",
              "\n",
              "  @media (prefers-color-scheme: dark) {\n",
              "    /* Redefinition of color scheme for dark theme */\n",
              "    --sklearn-color-text-on-default-background: var(--sg-text-color, var(--theme-code-foreground, var(--jp-content-font-color1, white)));\n",
              "    --sklearn-color-background: var(--sg-background-color, var(--theme-background, var(--jp-layout-color0, #111)));\n",
              "    --sklearn-color-border-box: var(--sg-text-color, var(--theme-code-foreground, var(--jp-content-font-color1, white)));\n",
              "    --sklearn-color-icon: #878787;\n",
              "  }\n",
              "}\n",
              "\n",
              "#sk-container-id-1 {\n",
              "  color: var(--sklearn-color-text);\n",
              "}\n",
              "\n",
              "#sk-container-id-1 pre {\n",
              "  padding: 0;\n",
              "}\n",
              "\n",
              "#sk-container-id-1 input.sk-hidden--visually {\n",
              "  border: 0;\n",
              "  clip: rect(1px 1px 1px 1px);\n",
              "  clip: rect(1px, 1px, 1px, 1px);\n",
              "  height: 1px;\n",
              "  margin: -1px;\n",
              "  overflow: hidden;\n",
              "  padding: 0;\n",
              "  position: absolute;\n",
              "  width: 1px;\n",
              "}\n",
              "\n",
              "#sk-container-id-1 div.sk-dashed-wrapped {\n",
              "  border: 1px dashed var(--sklearn-color-line);\n",
              "  margin: 0 0.4em 0.5em 0.4em;\n",
              "  box-sizing: border-box;\n",
              "  padding-bottom: 0.4em;\n",
              "  background-color: var(--sklearn-color-background);\n",
              "}\n",
              "\n",
              "#sk-container-id-1 div.sk-container {\n",
              "  /* jupyter's `normalize.less` sets `[hidden] { display: none; }`\n",
              "     but bootstrap.min.css set `[hidden] { display: none !important; }`\n",
              "     so we also need the `!important` here to be able to override the\n",
              "     default hidden behavior on the sphinx rendered scikit-learn.org.\n",
              "     See: https://github.com/scikit-learn/scikit-learn/issues/21755 */\n",
              "  display: inline-block !important;\n",
              "  position: relative;\n",
              "}\n",
              "\n",
              "#sk-container-id-1 div.sk-text-repr-fallback {\n",
              "  display: none;\n",
              "}\n",
              "\n",
              "div.sk-parallel-item,\n",
              "div.sk-serial,\n",
              "div.sk-item {\n",
              "  /* draw centered vertical line to link estimators */\n",
              "  background-image: linear-gradient(var(--sklearn-color-text-on-default-background), var(--sklearn-color-text-on-default-background));\n",
              "  background-size: 2px 100%;\n",
              "  background-repeat: no-repeat;\n",
              "  background-position: center center;\n",
              "}\n",
              "\n",
              "/* Parallel-specific style estimator block */\n",
              "\n",
              "#sk-container-id-1 div.sk-parallel-item::after {\n",
              "  content: \"\";\n",
              "  width: 100%;\n",
              "  border-bottom: 2px solid var(--sklearn-color-text-on-default-background);\n",
              "  flex-grow: 1;\n",
              "}\n",
              "\n",
              "#sk-container-id-1 div.sk-parallel {\n",
              "  display: flex;\n",
              "  align-items: stretch;\n",
              "  justify-content: center;\n",
              "  background-color: var(--sklearn-color-background);\n",
              "  position: relative;\n",
              "}\n",
              "\n",
              "#sk-container-id-1 div.sk-parallel-item {\n",
              "  display: flex;\n",
              "  flex-direction: column;\n",
              "}\n",
              "\n",
              "#sk-container-id-1 div.sk-parallel-item:first-child::after {\n",
              "  align-self: flex-end;\n",
              "  width: 50%;\n",
              "}\n",
              "\n",
              "#sk-container-id-1 div.sk-parallel-item:last-child::after {\n",
              "  align-self: flex-start;\n",
              "  width: 50%;\n",
              "}\n",
              "\n",
              "#sk-container-id-1 div.sk-parallel-item:only-child::after {\n",
              "  width: 0;\n",
              "}\n",
              "\n",
              "/* Serial-specific style estimator block */\n",
              "\n",
              "#sk-container-id-1 div.sk-serial {\n",
              "  display: flex;\n",
              "  flex-direction: column;\n",
              "  align-items: center;\n",
              "  background-color: var(--sklearn-color-background);\n",
              "  padding-right: 1em;\n",
              "  padding-left: 1em;\n",
              "}\n",
              "\n",
              "\n",
              "/* Toggleable style: style used for estimator/Pipeline/ColumnTransformer box that is\n",
              "clickable and can be expanded/collapsed.\n",
              "- Pipeline and ColumnTransformer use this feature and define the default style\n",
              "- Estimators will overwrite some part of the style using the `sk-estimator` class\n",
              "*/\n",
              "\n",
              "/* Pipeline and ColumnTransformer style (default) */\n",
              "\n",
              "#sk-container-id-1 div.sk-toggleable {\n",
              "  /* Default theme specific background. It is overwritten whether we have a\n",
              "  specific estimator or a Pipeline/ColumnTransformer */\n",
              "  background-color: var(--sklearn-color-background);\n",
              "}\n",
              "\n",
              "/* Toggleable label */\n",
              "#sk-container-id-1 label.sk-toggleable__label {\n",
              "  cursor: pointer;\n",
              "  display: flex;\n",
              "  width: 100%;\n",
              "  margin-bottom: 0;\n",
              "  padding: 0.5em;\n",
              "  box-sizing: border-box;\n",
              "  text-align: center;\n",
              "  align-items: start;\n",
              "  justify-content: space-between;\n",
              "  gap: 0.5em;\n",
              "}\n",
              "\n",
              "#sk-container-id-1 label.sk-toggleable__label .caption {\n",
              "  font-size: 0.6rem;\n",
              "  font-weight: lighter;\n",
              "  color: var(--sklearn-color-text-muted);\n",
              "}\n",
              "\n",
              "#sk-container-id-1 label.sk-toggleable__label-arrow:before {\n",
              "  /* Arrow on the left of the label */\n",
              "  content: \"▸\";\n",
              "  float: left;\n",
              "  margin-right: 0.25em;\n",
              "  color: var(--sklearn-color-icon);\n",
              "}\n",
              "\n",
              "#sk-container-id-1 label.sk-toggleable__label-arrow:hover:before {\n",
              "  color: var(--sklearn-color-text);\n",
              "}\n",
              "\n",
              "/* Toggleable content - dropdown */\n",
              "\n",
              "#sk-container-id-1 div.sk-toggleable__content {\n",
              "  max-height: 0;\n",
              "  max-width: 0;\n",
              "  overflow: hidden;\n",
              "  text-align: left;\n",
              "  /* unfitted */\n",
              "  background-color: var(--sklearn-color-unfitted-level-0);\n",
              "}\n",
              "\n",
              "#sk-container-id-1 div.sk-toggleable__content.fitted {\n",
              "  /* fitted */\n",
              "  background-color: var(--sklearn-color-fitted-level-0);\n",
              "}\n",
              "\n",
              "#sk-container-id-1 div.sk-toggleable__content pre {\n",
              "  margin: 0.2em;\n",
              "  border-radius: 0.25em;\n",
              "  color: var(--sklearn-color-text);\n",
              "  /* unfitted */\n",
              "  background-color: var(--sklearn-color-unfitted-level-0);\n",
              "}\n",
              "\n",
              "#sk-container-id-1 div.sk-toggleable__content.fitted pre {\n",
              "  /* unfitted */\n",
              "  background-color: var(--sklearn-color-fitted-level-0);\n",
              "}\n",
              "\n",
              "#sk-container-id-1 input.sk-toggleable__control:checked~div.sk-toggleable__content {\n",
              "  /* Expand drop-down */\n",
              "  max-height: 200px;\n",
              "  max-width: 100%;\n",
              "  overflow: auto;\n",
              "}\n",
              "\n",
              "#sk-container-id-1 input.sk-toggleable__control:checked~label.sk-toggleable__label-arrow:before {\n",
              "  content: \"▾\";\n",
              "}\n",
              "\n",
              "/* Pipeline/ColumnTransformer-specific style */\n",
              "\n",
              "#sk-container-id-1 div.sk-label input.sk-toggleable__control:checked~label.sk-toggleable__label {\n",
              "  color: var(--sklearn-color-text);\n",
              "  background-color: var(--sklearn-color-unfitted-level-2);\n",
              "}\n",
              "\n",
              "#sk-container-id-1 div.sk-label.fitted input.sk-toggleable__control:checked~label.sk-toggleable__label {\n",
              "  background-color: var(--sklearn-color-fitted-level-2);\n",
              "}\n",
              "\n",
              "/* Estimator-specific style */\n",
              "\n",
              "/* Colorize estimator box */\n",
              "#sk-container-id-1 div.sk-estimator input.sk-toggleable__control:checked~label.sk-toggleable__label {\n",
              "  /* unfitted */\n",
              "  background-color: var(--sklearn-color-unfitted-level-2);\n",
              "}\n",
              "\n",
              "#sk-container-id-1 div.sk-estimator.fitted input.sk-toggleable__control:checked~label.sk-toggleable__label {\n",
              "  /* fitted */\n",
              "  background-color: var(--sklearn-color-fitted-level-2);\n",
              "}\n",
              "\n",
              "#sk-container-id-1 div.sk-label label.sk-toggleable__label,\n",
              "#sk-container-id-1 div.sk-label label {\n",
              "  /* The background is the default theme color */\n",
              "  color: var(--sklearn-color-text-on-default-background);\n",
              "}\n",
              "\n",
              "/* On hover, darken the color of the background */\n",
              "#sk-container-id-1 div.sk-label:hover label.sk-toggleable__label {\n",
              "  color: var(--sklearn-color-text);\n",
              "  background-color: var(--sklearn-color-unfitted-level-2);\n",
              "}\n",
              "\n",
              "/* Label box, darken color on hover, fitted */\n",
              "#sk-container-id-1 div.sk-label.fitted:hover label.sk-toggleable__label.fitted {\n",
              "  color: var(--sklearn-color-text);\n",
              "  background-color: var(--sklearn-color-fitted-level-2);\n",
              "}\n",
              "\n",
              "/* Estimator label */\n",
              "\n",
              "#sk-container-id-1 div.sk-label label {\n",
              "  font-family: monospace;\n",
              "  font-weight: bold;\n",
              "  display: inline-block;\n",
              "  line-height: 1.2em;\n",
              "}\n",
              "\n",
              "#sk-container-id-1 div.sk-label-container {\n",
              "  text-align: center;\n",
              "}\n",
              "\n",
              "/* Estimator-specific */\n",
              "#sk-container-id-1 div.sk-estimator {\n",
              "  font-family: monospace;\n",
              "  border: 1px dotted var(--sklearn-color-border-box);\n",
              "  border-radius: 0.25em;\n",
              "  box-sizing: border-box;\n",
              "  margin-bottom: 0.5em;\n",
              "  /* unfitted */\n",
              "  background-color: var(--sklearn-color-unfitted-level-0);\n",
              "}\n",
              "\n",
              "#sk-container-id-1 div.sk-estimator.fitted {\n",
              "  /* fitted */\n",
              "  background-color: var(--sklearn-color-fitted-level-0);\n",
              "}\n",
              "\n",
              "/* on hover */\n",
              "#sk-container-id-1 div.sk-estimator:hover {\n",
              "  /* unfitted */\n",
              "  background-color: var(--sklearn-color-unfitted-level-2);\n",
              "}\n",
              "\n",
              "#sk-container-id-1 div.sk-estimator.fitted:hover {\n",
              "  /* fitted */\n",
              "  background-color: var(--sklearn-color-fitted-level-2);\n",
              "}\n",
              "\n",
              "/* Specification for estimator info (e.g. \"i\" and \"?\") */\n",
              "\n",
              "/* Common style for \"i\" and \"?\" */\n",
              "\n",
              ".sk-estimator-doc-link,\n",
              "a:link.sk-estimator-doc-link,\n",
              "a:visited.sk-estimator-doc-link {\n",
              "  float: right;\n",
              "  font-size: smaller;\n",
              "  line-height: 1em;\n",
              "  font-family: monospace;\n",
              "  background-color: var(--sklearn-color-background);\n",
              "  border-radius: 1em;\n",
              "  height: 1em;\n",
              "  width: 1em;\n",
              "  text-decoration: none !important;\n",
              "  margin-left: 0.5em;\n",
              "  text-align: center;\n",
              "  /* unfitted */\n",
              "  border: var(--sklearn-color-unfitted-level-1) 1pt solid;\n",
              "  color: var(--sklearn-color-unfitted-level-1);\n",
              "}\n",
              "\n",
              ".sk-estimator-doc-link.fitted,\n",
              "a:link.sk-estimator-doc-link.fitted,\n",
              "a:visited.sk-estimator-doc-link.fitted {\n",
              "  /* fitted */\n",
              "  border: var(--sklearn-color-fitted-level-1) 1pt solid;\n",
              "  color: var(--sklearn-color-fitted-level-1);\n",
              "}\n",
              "\n",
              "/* On hover */\n",
              "div.sk-estimator:hover .sk-estimator-doc-link:hover,\n",
              ".sk-estimator-doc-link:hover,\n",
              "div.sk-label-container:hover .sk-estimator-doc-link:hover,\n",
              ".sk-estimator-doc-link:hover {\n",
              "  /* unfitted */\n",
              "  background-color: var(--sklearn-color-unfitted-level-3);\n",
              "  color: var(--sklearn-color-background);\n",
              "  text-decoration: none;\n",
              "}\n",
              "\n",
              "div.sk-estimator.fitted:hover .sk-estimator-doc-link.fitted:hover,\n",
              ".sk-estimator-doc-link.fitted:hover,\n",
              "div.sk-label-container:hover .sk-estimator-doc-link.fitted:hover,\n",
              ".sk-estimator-doc-link.fitted:hover {\n",
              "  /* fitted */\n",
              "  background-color: var(--sklearn-color-fitted-level-3);\n",
              "  color: var(--sklearn-color-background);\n",
              "  text-decoration: none;\n",
              "}\n",
              "\n",
              "/* Span, style for the box shown on hovering the info icon */\n",
              ".sk-estimator-doc-link span {\n",
              "  display: none;\n",
              "  z-index: 9999;\n",
              "  position: relative;\n",
              "  font-weight: normal;\n",
              "  right: .2ex;\n",
              "  padding: .5ex;\n",
              "  margin: .5ex;\n",
              "  width: min-content;\n",
              "  min-width: 20ex;\n",
              "  max-width: 50ex;\n",
              "  color: var(--sklearn-color-text);\n",
              "  box-shadow: 2pt 2pt 4pt #999;\n",
              "  /* unfitted */\n",
              "  background: var(--sklearn-color-unfitted-level-0);\n",
              "  border: .5pt solid var(--sklearn-color-unfitted-level-3);\n",
              "}\n",
              "\n",
              ".sk-estimator-doc-link.fitted span {\n",
              "  /* fitted */\n",
              "  background: var(--sklearn-color-fitted-level-0);\n",
              "  border: var(--sklearn-color-fitted-level-3);\n",
              "}\n",
              "\n",
              ".sk-estimator-doc-link:hover span {\n",
              "  display: block;\n",
              "}\n",
              "\n",
              "/* \"?\"-specific style due to the `<a>` HTML tag */\n",
              "\n",
              "#sk-container-id-1 a.estimator_doc_link {\n",
              "  float: right;\n",
              "  font-size: 1rem;\n",
              "  line-height: 1em;\n",
              "  font-family: monospace;\n",
              "  background-color: var(--sklearn-color-background);\n",
              "  border-radius: 1rem;\n",
              "  height: 1rem;\n",
              "  width: 1rem;\n",
              "  text-decoration: none;\n",
              "  /* unfitted */\n",
              "  color: var(--sklearn-color-unfitted-level-1);\n",
              "  border: var(--sklearn-color-unfitted-level-1) 1pt solid;\n",
              "}\n",
              "\n",
              "#sk-container-id-1 a.estimator_doc_link.fitted {\n",
              "  /* fitted */\n",
              "  border: var(--sklearn-color-fitted-level-1) 1pt solid;\n",
              "  color: var(--sklearn-color-fitted-level-1);\n",
              "}\n",
              "\n",
              "/* On hover */\n",
              "#sk-container-id-1 a.estimator_doc_link:hover {\n",
              "  /* unfitted */\n",
              "  background-color: var(--sklearn-color-unfitted-level-3);\n",
              "  color: var(--sklearn-color-background);\n",
              "  text-decoration: none;\n",
              "}\n",
              "\n",
              "#sk-container-id-1 a.estimator_doc_link.fitted:hover {\n",
              "  /* fitted */\n",
              "  background-color: var(--sklearn-color-fitted-level-3);\n",
              "}\n",
              "</style><div id=\"sk-container-id-1\" class=\"sk-top-container\"><div class=\"sk-text-repr-fallback\"><pre>RandomizedSearchCV(cv=StratifiedKFold(n_splits=3, random_state=42, shuffle=True),\n",
              "                   estimator=Pipeline(steps=[(&#x27;preprocessor&#x27;,\n",
              "                                              ColumnTransformer(transformers=[(&#x27;num&#x27;,\n",
              "                                                                               StandardScaler(),\n",
              "                                                                               Index([&#x27;weight&#x27;, &#x27;aki_stage&#x27;, &#x27;gender&#x27;, &#x27;admission_age&#x27;, &#x27;hematocrit_min&#x27;,\n",
              "       &#x27;hematocrit_max&#x27;, &#x27;hemoglobin_min&#x27;, &#x27;hemoglobin_max&#x27;, &#x27;platelets_min&#x27;,\n",
              "       &#x27;platelets_max&#x27;, &#x27;wbc_min&#x27;, &#x27;wbc_max&#x27;,...\n",
              "                                             (&#x27;smote&#x27;, SMOTE(random_state=42)),\n",
              "                                             (&#x27;classifier&#x27;,\n",
              "                                              RandomForestClassifier(class_weight=&#x27;balanced&#x27;,\n",
              "                                                                     random_state=42))]),\n",
              "                   n_jobs=-1,\n",
              "                   param_distributions={&#x27;classifier__bootstrap&#x27;: [True, False],\n",
              "                                        &#x27;classifier__max_depth&#x27;: [10, 20, None],\n",
              "                                        &#x27;classifier__min_samples_leaf&#x27;: [1, 2],\n",
              "                                        &#x27;classifier__min_samples_split&#x27;: [2, 5],\n",
              "                                        &#x27;classifier__n_estimators&#x27;: [100, 200]},\n",
              "                   random_state=42, scoring=&#x27;roc_auc&#x27;)</pre><b>In a Jupyter environment, please rerun this cell to show the HTML representation or trust the notebook. <br />On GitHub, the HTML representation is unable to render, please try loading this page with nbviewer.org.</b></div><div class=\"sk-container\" hidden><div class=\"sk-item sk-dashed-wrapped\"><div class=\"sk-label-container\"><div class=\"sk-label fitted sk-toggleable\"><input class=\"sk-toggleable__control sk-hidden--visually\" id=\"sk-estimator-id-1\" type=\"checkbox\" ><label for=\"sk-estimator-id-1\" class=\"sk-toggleable__label fitted sk-toggleable__label-arrow\"><div><div>RandomizedSearchCV</div></div><div><a class=\"sk-estimator-doc-link fitted\" rel=\"noreferrer\" target=\"_blank\" href=\"https://scikit-learn.org/1.6/modules/generated/sklearn.model_selection.RandomizedSearchCV.html\">?<span>Documentation for RandomizedSearchCV</span></a><span class=\"sk-estimator-doc-link fitted\">i<span>Fitted</span></span></div></label><div class=\"sk-toggleable__content fitted\"><pre>RandomizedSearchCV(cv=StratifiedKFold(n_splits=3, random_state=42, shuffle=True),\n",
              "                   estimator=Pipeline(steps=[(&#x27;preprocessor&#x27;,\n",
              "                                              ColumnTransformer(transformers=[(&#x27;num&#x27;,\n",
              "                                                                               StandardScaler(),\n",
              "                                                                               Index([&#x27;weight&#x27;, &#x27;aki_stage&#x27;, &#x27;gender&#x27;, &#x27;admission_age&#x27;, &#x27;hematocrit_min&#x27;,\n",
              "       &#x27;hematocrit_max&#x27;, &#x27;hemoglobin_min&#x27;, &#x27;hemoglobin_max&#x27;, &#x27;platelets_min&#x27;,\n",
              "       &#x27;platelets_max&#x27;, &#x27;wbc_min&#x27;, &#x27;wbc_max&#x27;,...\n",
              "                                             (&#x27;smote&#x27;, SMOTE(random_state=42)),\n",
              "                                             (&#x27;classifier&#x27;,\n",
              "                                              RandomForestClassifier(class_weight=&#x27;balanced&#x27;,\n",
              "                                                                     random_state=42))]),\n",
              "                   n_jobs=-1,\n",
              "                   param_distributions={&#x27;classifier__bootstrap&#x27;: [True, False],\n",
              "                                        &#x27;classifier__max_depth&#x27;: [10, 20, None],\n",
              "                                        &#x27;classifier__min_samples_leaf&#x27;: [1, 2],\n",
              "                                        &#x27;classifier__min_samples_split&#x27;: [2, 5],\n",
              "                                        &#x27;classifier__n_estimators&#x27;: [100, 200]},\n",
              "                   random_state=42, scoring=&#x27;roc_auc&#x27;)</pre></div> </div></div><div class=\"sk-parallel\"><div class=\"sk-parallel-item\"><div class=\"sk-item\"><div class=\"sk-label-container\"><div class=\"sk-label fitted sk-toggleable\"><input class=\"sk-toggleable__control sk-hidden--visually\" id=\"sk-estimator-id-2\" type=\"checkbox\" ><label for=\"sk-estimator-id-2\" class=\"sk-toggleable__label fitted sk-toggleable__label-arrow\"><div><div>best_estimator_: Pipeline</div></div></label><div class=\"sk-toggleable__content fitted\"><pre>Pipeline(steps=[(&#x27;preprocessor&#x27;,\n",
              "                 ColumnTransformer(transformers=[(&#x27;num&#x27;, StandardScaler(),\n",
              "                                                  Index([&#x27;weight&#x27;, &#x27;aki_stage&#x27;, &#x27;gender&#x27;, &#x27;admission_age&#x27;, &#x27;hematocrit_min&#x27;,\n",
              "       &#x27;hematocrit_max&#x27;, &#x27;hemoglobin_min&#x27;, &#x27;hemoglobin_max&#x27;, &#x27;platelets_min&#x27;,\n",
              "       &#x27;platelets_max&#x27;, &#x27;wbc_min&#x27;, &#x27;wbc_max&#x27;, &#x27;aniongap_min&#x27;, &#x27;aniongap_max&#x27;,\n",
              "       &#x27;bicarbonate_min&#x27;, &#x27;bicarbonate_max&#x27;, &#x27;bun_min&#x27;, &#x27;bun_max&#x27;,\n",
              "       &#x27;ca...\n",
              "      dtype=&#x27;object&#x27;)),\n",
              "                                                 (&#x27;cat&#x27;,\n",
              "                                                  OneHotEncoder(drop=&#x27;first&#x27;,\n",
              "                                                                sparse_output=False),\n",
              "                                                  Index([&#x27;ethnicity&#x27;], dtype=&#x27;object&#x27;))])),\n",
              "                (&#x27;feature_selector&#x27;,\n",
              "                 SelectFromModel(estimator=RandomForestClassifier(random_state=42),\n",
              "                                 max_features=20)),\n",
              "                (&#x27;smote&#x27;, SMOTE(random_state=42)),\n",
              "                (&#x27;classifier&#x27;,\n",
              "                 RandomForestClassifier(class_weight=&#x27;balanced&#x27;, max_depth=20,\n",
              "                                        min_samples_leaf=2, random_state=42))])</pre></div> </div></div><div class=\"sk-serial\"><div class=\"sk-item\"><div class=\"sk-serial\"><div class=\"sk-item sk-dashed-wrapped\"><div class=\"sk-label-container\"><div class=\"sk-label fitted sk-toggleable\"><input class=\"sk-toggleable__control sk-hidden--visually\" id=\"sk-estimator-id-3\" type=\"checkbox\" ><label for=\"sk-estimator-id-3\" class=\"sk-toggleable__label fitted sk-toggleable__label-arrow\"><div><div>preprocessor: ColumnTransformer</div></div><div><a class=\"sk-estimator-doc-link fitted\" rel=\"noreferrer\" target=\"_blank\" href=\"https://scikit-learn.org/1.6/modules/generated/sklearn.compose.ColumnTransformer.html\">?<span>Documentation for preprocessor: ColumnTransformer</span></a></div></label><div class=\"sk-toggleable__content fitted\"><pre>ColumnTransformer(transformers=[(&#x27;num&#x27;, StandardScaler(),\n",
              "                                 Index([&#x27;weight&#x27;, &#x27;aki_stage&#x27;, &#x27;gender&#x27;, &#x27;admission_age&#x27;, &#x27;hematocrit_min&#x27;,\n",
              "       &#x27;hematocrit_max&#x27;, &#x27;hemoglobin_min&#x27;, &#x27;hemoglobin_max&#x27;, &#x27;platelets_min&#x27;,\n",
              "       &#x27;platelets_max&#x27;, &#x27;wbc_min&#x27;, &#x27;wbc_max&#x27;, &#x27;aniongap_min&#x27;, &#x27;aniongap_max&#x27;,\n",
              "       &#x27;bicarbonate_min&#x27;, &#x27;bicarbonate_max&#x27;, &#x27;bun_min&#x27;, &#x27;bun_max&#x27;,\n",
              "       &#x27;calcium_min&#x27;, &#x27;calcium_max&#x27;, &#x27;chlori...\n",
              "       &#x27;creatinine_min&#x27;, &#x27;creatinine_max&#x27;, &#x27;glucose_min&#x27;, &#x27;glucose_max&#x27;,\n",
              "       &#x27;sodium_min&#x27;, &#x27;sodium_max&#x27;, &#x27;potassium_min&#x27;, &#x27;potassium_max&#x27;, &#x27;inr_max&#x27;,\n",
              "       &#x27;pt_max&#x27;, &#x27;ptt_max&#x27;, &#x27;heart_rate_mean&#x27;, &#x27;sbp_mean&#x27;, &#x27;dbp_mean&#x27;,\n",
              "       &#x27;mbp_mean&#x27;, &#x27;resp_rate_mean&#x27;, &#x27;temperature_mean&#x27;, &#x27;spo2_mean&#x27;,\n",
              "       &#x27;glucose_mean&#x27;, &#x27;gcs_min&#x27;],\n",
              "      dtype=&#x27;object&#x27;)),\n",
              "                                (&#x27;cat&#x27;,\n",
              "                                 OneHotEncoder(drop=&#x27;first&#x27;,\n",
              "                                               sparse_output=False),\n",
              "                                 Index([&#x27;ethnicity&#x27;], dtype=&#x27;object&#x27;))])</pre></div> </div></div><div class=\"sk-parallel\"><div class=\"sk-parallel-item\"><div class=\"sk-item\"><div class=\"sk-label-container\"><div class=\"sk-label fitted sk-toggleable\"><input class=\"sk-toggleable__control sk-hidden--visually\" id=\"sk-estimator-id-4\" type=\"checkbox\" ><label for=\"sk-estimator-id-4\" class=\"sk-toggleable__label fitted sk-toggleable__label-arrow\"><div><div>num</div></div></label><div class=\"sk-toggleable__content fitted\"><pre>Index([&#x27;weight&#x27;, &#x27;aki_stage&#x27;, &#x27;gender&#x27;, &#x27;admission_age&#x27;, &#x27;hematocrit_min&#x27;,\n",
              "       &#x27;hematocrit_max&#x27;, &#x27;hemoglobin_min&#x27;, &#x27;hemoglobin_max&#x27;, &#x27;platelets_min&#x27;,\n",
              "       &#x27;platelets_max&#x27;, &#x27;wbc_min&#x27;, &#x27;wbc_max&#x27;, &#x27;aniongap_min&#x27;, &#x27;aniongap_max&#x27;,\n",
              "       &#x27;bicarbonate_min&#x27;, &#x27;bicarbonate_max&#x27;, &#x27;bun_min&#x27;, &#x27;bun_max&#x27;,\n",
              "       &#x27;calcium_min&#x27;, &#x27;calcium_max&#x27;, &#x27;chloride_min&#x27;, &#x27;chloride_max&#x27;,\n",
              "       &#x27;creatinine_min&#x27;, &#x27;creatinine_max&#x27;, &#x27;glucose_min&#x27;, &#x27;glucose_max&#x27;,\n",
              "       &#x27;sodium_min&#x27;, &#x27;sodium_max&#x27;, &#x27;potassium_min&#x27;, &#x27;potassium_max&#x27;, &#x27;inr_max&#x27;,\n",
              "       &#x27;pt_max&#x27;, &#x27;ptt_max&#x27;, &#x27;heart_rate_mean&#x27;, &#x27;sbp_mean&#x27;, &#x27;dbp_mean&#x27;,\n",
              "       &#x27;mbp_mean&#x27;, &#x27;resp_rate_mean&#x27;, &#x27;temperature_mean&#x27;, &#x27;spo2_mean&#x27;,\n",
              "       &#x27;glucose_mean&#x27;, &#x27;gcs_min&#x27;],\n",
              "      dtype=&#x27;object&#x27;)</pre></div> </div></div><div class=\"sk-serial\"><div class=\"sk-item\"><div class=\"sk-estimator fitted sk-toggleable\"><input class=\"sk-toggleable__control sk-hidden--visually\" id=\"sk-estimator-id-5\" type=\"checkbox\" ><label for=\"sk-estimator-id-5\" class=\"sk-toggleable__label fitted sk-toggleable__label-arrow\"><div><div>StandardScaler</div></div><div><a class=\"sk-estimator-doc-link fitted\" rel=\"noreferrer\" target=\"_blank\" href=\"https://scikit-learn.org/1.6/modules/generated/sklearn.preprocessing.StandardScaler.html\">?<span>Documentation for StandardScaler</span></a></div></label><div class=\"sk-toggleable__content fitted\"><pre>StandardScaler()</pre></div> </div></div></div></div></div><div class=\"sk-parallel-item\"><div class=\"sk-item\"><div class=\"sk-label-container\"><div class=\"sk-label fitted sk-toggleable\"><input class=\"sk-toggleable__control sk-hidden--visually\" id=\"sk-estimator-id-6\" type=\"checkbox\" ><label for=\"sk-estimator-id-6\" class=\"sk-toggleable__label fitted sk-toggleable__label-arrow\"><div><div>cat</div></div></label><div class=\"sk-toggleable__content fitted\"><pre>Index([&#x27;ethnicity&#x27;], dtype=&#x27;object&#x27;)</pre></div> </div></div><div class=\"sk-serial\"><div class=\"sk-item\"><div class=\"sk-estimator fitted sk-toggleable\"><input class=\"sk-toggleable__control sk-hidden--visually\" id=\"sk-estimator-id-7\" type=\"checkbox\" ><label for=\"sk-estimator-id-7\" class=\"sk-toggleable__label fitted sk-toggleable__label-arrow\"><div><div>OneHotEncoder</div></div><div><a class=\"sk-estimator-doc-link fitted\" rel=\"noreferrer\" target=\"_blank\" href=\"https://scikit-learn.org/1.6/modules/generated/sklearn.preprocessing.OneHotEncoder.html\">?<span>Documentation for OneHotEncoder</span></a></div></label><div class=\"sk-toggleable__content fitted\"><pre>OneHotEncoder(drop=&#x27;first&#x27;, sparse_output=False)</pre></div> </div></div></div></div></div></div></div><div class=\"sk-item sk-dashed-wrapped\"><div class=\"sk-label-container\"><div class=\"sk-label fitted sk-toggleable\"><input class=\"sk-toggleable__control sk-hidden--visually\" id=\"sk-estimator-id-8\" type=\"checkbox\" ><label for=\"sk-estimator-id-8\" class=\"sk-toggleable__label fitted sk-toggleable__label-arrow\"><div><div>feature_selector: SelectFromModel</div></div><div><a class=\"sk-estimator-doc-link fitted\" rel=\"noreferrer\" target=\"_blank\" href=\"https://scikit-learn.org/1.6/modules/generated/sklearn.feature_selection.SelectFromModel.html\">?<span>Documentation for feature_selector: SelectFromModel</span></a></div></label><div class=\"sk-toggleable__content fitted\"><pre>SelectFromModel(estimator=RandomForestClassifier(random_state=42),\n",
              "                max_features=20)</pre></div> </div></div><div class=\"sk-parallel\"><div class=\"sk-parallel-item\"><div class=\"sk-item\"><div class=\"sk-label-container\"><div class=\"sk-label fitted sk-toggleable\"><input class=\"sk-toggleable__control sk-hidden--visually\" id=\"sk-estimator-id-9\" type=\"checkbox\" ><label for=\"sk-estimator-id-9\" class=\"sk-toggleable__label fitted sk-toggleable__label-arrow\"><div><div>estimator: RandomForestClassifier</div></div></label><div class=\"sk-toggleable__content fitted\"><pre>RandomForestClassifier(random_state=42)</pre></div> </div></div><div class=\"sk-serial\"><div class=\"sk-item\"><div class=\"sk-estimator fitted sk-toggleable\"><input class=\"sk-toggleable__control sk-hidden--visually\" id=\"sk-estimator-id-10\" type=\"checkbox\" ><label for=\"sk-estimator-id-10\" class=\"sk-toggleable__label fitted sk-toggleable__label-arrow\"><div><div>RandomForestClassifier</div></div><div><a class=\"sk-estimator-doc-link fitted\" rel=\"noreferrer\" target=\"_blank\" href=\"https://scikit-learn.org/1.6/modules/generated/sklearn.ensemble.RandomForestClassifier.html\">?<span>Documentation for RandomForestClassifier</span></a></div></label><div class=\"sk-toggleable__content fitted\"><pre>RandomForestClassifier(random_state=42)</pre></div> </div></div></div></div></div></div></div><div class=\"sk-item\"><div class=\"sk-estimator fitted sk-toggleable\"><input class=\"sk-toggleable__control sk-hidden--visually\" id=\"sk-estimator-id-11\" type=\"checkbox\" ><label for=\"sk-estimator-id-11\" class=\"sk-toggleable__label fitted sk-toggleable__label-arrow\"><div><div>SMOTE</div></div></label><div class=\"sk-toggleable__content fitted\"><pre>SMOTE(random_state=42)</pre></div> </div></div><div class=\"sk-item\"><div class=\"sk-estimator fitted sk-toggleable\"><input class=\"sk-toggleable__control sk-hidden--visually\" id=\"sk-estimator-id-12\" type=\"checkbox\" ><label for=\"sk-estimator-id-12\" class=\"sk-toggleable__label fitted sk-toggleable__label-arrow\"><div><div>RandomForestClassifier</div></div><div><a class=\"sk-estimator-doc-link fitted\" rel=\"noreferrer\" target=\"_blank\" href=\"https://scikit-learn.org/1.6/modules/generated/sklearn.ensemble.RandomForestClassifier.html\">?<span>Documentation for RandomForestClassifier</span></a></div></label><div class=\"sk-toggleable__content fitted\"><pre>RandomForestClassifier(class_weight=&#x27;balanced&#x27;, max_depth=20,\n",
              "                       min_samples_leaf=2, random_state=42)</pre></div> </div></div></div></div></div></div></div></div></div></div></div>"
            ]
          },
          "metadata": {},
          "execution_count": 12
        }
      ],
      "source": [
        "# Fit the model\n",
        "random_search.fit(X_train, y_train)\n",
        "\n"
      ]
    },
    {
      "cell_type": "code",
      "execution_count": null,
      "metadata": {
        "id": "5y3legbUn0gi"
      },
      "outputs": [],
      "source": [
        "# Get the best model\n",
        "best_model = random_search.best_estimator_\n",
        "\n"
      ]
    },
    {
      "cell_type": "markdown",
      "metadata": {
        "id": "w-J0GA83n0gi"
      },
      "source": [
        "Model Evaluation Function"
      ]
    },
    {
      "cell_type": "code",
      "execution_count": null,
      "metadata": {
        "colab": {
          "base_uri": "https://localhost:8080/"
        },
        "id": "BuKOVPYcn0gj",
        "outputId": "7e50cefb-699f-4cb0-822e-d932c510db14"
      },
      "outputs": [
        {
          "output_type": "stream",
          "name": "stdout",
          "text": [
            "\n",
            "Training Results:\n",
            "ROC AUC: 0.9999967193430813\n",
            "Classification Report:\n",
            "               precision    recall  f1-score   support\n",
            "\n",
            "           0       1.00      1.00      1.00       263\n",
            "           1       1.00      1.00      1.00      1159\n",
            "\n",
            "    accuracy                           1.00      1422\n",
            "   macro avg       1.00      1.00      1.00      1422\n",
            "weighted avg       1.00      1.00      1.00      1422\n",
            "\n",
            "Confusion Matrix:\n",
            " [[ 263    0]\n",
            " [   1 1158]]\n",
            "Average Precision Score: 0.9999992561958883\n",
            "\n",
            "Test Results:\n",
            "ROC AUC: 0.6970480668756531\n",
            "Classification Report:\n",
            "               precision    recall  f1-score   support\n",
            "\n",
            "           0       0.33      0.30      0.31        66\n",
            "           1       0.84      0.86      0.85       290\n",
            "\n",
            "    accuracy                           0.76       356\n",
            "   macro avg       0.59      0.58      0.58       356\n",
            "weighted avg       0.75      0.76      0.75       356\n",
            "\n",
            "Confusion Matrix:\n",
            " [[ 20  46]\n",
            " [ 41 249]]\n",
            "Average Precision Score: 0.9040878521944644\n"
          ]
        }
      ],
      "source": [
        "# Function to evaluate model\n",
        "def evaluate_model(model, X, y, dataset_name=\"\"):\n",
        "    y_pred = model.predict(X)\n",
        "    y_pred_proba = model.predict_proba(X)[:, 1]\n",
        "\n",
        "    print(f\"\\n{dataset_name} Results:\")\n",
        "    print(\"ROC AUC:\", roc_auc_score(y, y_pred_proba))\n",
        "    print(\"Classification Report:\\n\", classification_report(y, y_pred))\n",
        "    print(\"Confusion Matrix:\\n\", confusion_matrix(y, y_pred))\n",
        "\n",
        "    # Calculate precision-recall curve\n",
        "    precision, recall, thresholds = precision_recall_curve(y, y_pred_proba)\n",
        "    print(\"Average Precision Score:\", average_precision_score(y, y_pred_proba))\n",
        "\n",
        "# Evaluate on both train and test sets\n",
        "evaluate_model(best_model, X_train, y_train, \"Training\")\n",
        "evaluate_model(best_model, X_test, y_test, \"Test\")\n",
        "\n"
      ]
    },
    {
      "cell_type": "markdown",
      "metadata": {
        "id": "GcwwKxren0gj"
      },
      "source": [
        "Observations:\n",
        "1.The model shows signs of overfitting with near-perfect training scores (ROC AUC: 0.999) but much lower test performance (ROC AUC: 0.697)\n",
        "\n",
        "2.There is significant class imbalance in the data (263:1159 in training, 66:290 in test)\n",
        "\n",
        "3. The model performs better on the majority class (class 1) with F1-score of 0.85 compared to minority class (class 0) with F1-score of 0.31\n",
        "\n",
        "4.Test set confusion matrix shows 46 false positives and 41 false negatives, indicating balanced error types\n",
        "\n",
        "5.Despite using SMOTE and balanced class weights, the model struggles with the minority class in the test set\n"
      ]
    },
    {
      "cell_type": "markdown",
      "metadata": {
        "id": "T6NBRGIEn0gj"
      },
      "source": [
        "Feature Importance Analysis\n"
      ]
    },
    {
      "cell_type": "code",
      "execution_count": null,
      "metadata": {
        "colab": {
          "base_uri": "https://localhost:8080/"
        },
        "id": "OUm5iQbKn0gj",
        "outputId": "e6cdce52-4c95-44b4-d75a-0a9868a41469"
      },
      "outputs": [
        {
          "output_type": "stream",
          "name": "stdout",
          "text": [
            "\n",
            "Top 10 Most Important Features:\n",
            "aniongap_min: 0.0879\n",
            "creatinine_min: 0.0738\n",
            "resp_rate_mean: 0.0716\n",
            "potassium_min: 0.0590\n",
            "calcium_min: 0.0568\n",
            "chloride_max: 0.0547\n",
            "inr_max: 0.0513\n",
            "wbc_max: 0.0470\n",
            "glucose_min: 0.0458\n",
            "mbp_mean: 0.0455\n"
          ]
        }
      ],
      "source": [
        "# Get feature importance\n",
        "def get_feature_importance(model, feature_names):\n",
        "    # Get the feature importance from Random Forest\n",
        "    if hasattr(model['classifier'], 'feature_importances_'):\n",
        "        importance = model['classifier'].feature_importances_\n",
        "        selected_features = model['feature_selector'].get_support()\n",
        "\n",
        "        # Add selected features only\n",
        "        feature_importance_dict = {}\n",
        "        idx = 0\n",
        "        for i, is_selected in enumerate(selected_features):\n",
        "            if is_selected:\n",
        "                feature_importance_dict[feature_names[i]] = importance[idx]\n",
        "                idx += 1\n",
        "\n",
        "        return sorted(feature_importance_dict.items(), key=lambda x: x[1], reverse=True)\n",
        "\n",
        "# Create feature importance visualization\n",
        "feature_importance = get_feature_importance(best_model, X.columns)\n",
        "print(\"\\nTop 10 Most Important Features:\")\n",
        "for feature, importance in feature_importance[:10]:\n",
        "    print(f\"{feature}: {importance:.4f}\")"
      ]
    },
    {
      "cell_type": "markdown",
      "metadata": {
        "id": "itc3hJ4Rn0gk"
      },
      "source": [
        "Observation: Provides insights into feature relevance by extracting and ranking the importance of selected features from the trained Random Forest model."
      ]
    },
    {
      "cell_type": "code",
      "source": [
        "import shap\n",
        "import matplotlib.pyplot as plt\n",
        "import numpy as np\n",
        "\n",
        "try:\n",
        "    # Create SHAP explainer\n",
        "    explainer = shap.TreeExplainer(best_model['classifier'])\n",
        "\n",
        "    # Get transformed data and SHAP values\n",
        "    X_transformed = best_model['preprocessor'].transform(X_test)\n",
        "    X_selected = best_model['feature_selector'].transform(X_transformed)\n",
        "\n",
        "    # Print shapes for debugging\n",
        "    print(\"X_selected shape:\", X_selected.shape)\n",
        "\n",
        "    # Calculate SHAP values for first instance\n",
        "    shap_values = explainer.shap_values(X_selected)\n",
        "    print(\"SHAP values shape:\", np.array(shap_values).shape)\n",
        "\n",
        "    # Our known features with their importance values\n",
        "    feature_importance = {\n",
        "        'aniongap_min': 0.0879,\n",
        "        'creatinine_min': 0.0738,\n",
        "        'resp_rate_mean': 0.0716,\n",
        "        'potassium_min': 0.0590,\n",
        "        'calcium_min': 0.0568,\n",
        "        'chloride_max': 0.0547,\n",
        "        'inr_max': 0.0513,\n",
        "        'wbc_max': 0.0470,\n",
        "        'glucose_min': 0.0458,\n",
        "        'mbp_mean': 0.0455\n",
        "    }\n",
        "\n",
        "    # Create figure\n",
        "    plt.figure(figsize=(12, 8))\n",
        "\n",
        "    # Plot feature importance as a bar chart\n",
        "    features = list(feature_importance.keys())\n",
        "    values = list(feature_importance.values())\n",
        "\n",
        "    # Create bar plot\n",
        "    y_pos = np.arange(len(features))\n",
        "    plt.barh(y_pos, values)\n",
        "    plt.yticks(y_pos, features)\n",
        "\n",
        "    # Customize the plot\n",
        "    plt.xlabel('Feature Importance Score')\n",
        "    plt.title('Feature Importance in Early Dialysis Prediction')\n",
        "\n",
        "    # Add value labels on the bars\n",
        "    for i, v in enumerate(values):\n",
        "        plt.text(v, i, f' {v:.4f}', va='center')\n",
        "\n",
        "    plt.tight_layout()\n",
        "    plt.show()\n",
        "\n",
        "    # Print the actual values\n",
        "    print(\"\\nFeature Importance Scores:\")\n",
        "    for feature, importance in feature_importance.items():\n",
        "        print(f\"{feature}: {importance:.4f}\")\n",
        "\n",
        "except Exception as e:\n",
        "    print(f\"Error occurred: {str(e)}\")\n",
        "    print(\"\\nDebug information:\")\n",
        "    if 'shap_values' in locals():\n",
        "        print(\"Type of shap_values:\", type(shap_values))\n",
        "        if isinstance(shap_values, (list, np.ndarray)):\n",
        "            print(\"Shape of shap_values:\", np.array(shap_values).shape)\n"
      ],
      "metadata": {
        "colab": {
          "base_uri": "https://localhost:8080/",
          "height": 1000
        },
        "id": "s2MtBkf3olZc",
        "outputId": "425245c6-ded6-415c-b927-79ea956ff213"
      },
      "execution_count": 21,
      "outputs": [
        {
          "output_type": "stream",
          "name": "stdout",
          "text": [
            "X_selected shape: (356, 20)\n",
            "SHAP values shape: (356, 20, 2)\n"
          ]
        },
        {
          "output_type": "display_data",
          "data": {
            "text/plain": [
              "<Figure size 1200x800 with 1 Axes>"
            ],
            "image/png": "[encoded data removed]"
          },
          "metadata": {}
        },
        {
          "output_type": "stream",
          "name": "stdout",
          "text": [
            "\n",
            "Feature Importance Scores:\n",
            "aniongap_min: 0.0879\n",
            "creatinine_min: 0.0738\n",
            "resp_rate_mean: 0.0716\n",
            "potassium_min: 0.0590\n",
            "calcium_min: 0.0568\n",
            "chloride_max: 0.0547\n",
            "inr_max: 0.0513\n",
            "wbc_max: 0.0470\n",
            "glucose_min: 0.0458\n",
            "mbp_mean: 0.0455\n"
          ]
        }
      ]
    },
    {
      "cell_type": "code",
      "source": [
        "!pip install lime"
      ],
      "metadata": {
        "colab": {
          "base_uri": "https://localhost:8080/"
        },
        "id": "ZzDuLrdJsHl1",
        "outputId": "c8f10145-293b-4cda-db4d-36cfe3428e1d"
      },
      "execution_count": 24,
      "outputs": [
        {
          "output_type": "stream",
          "name": "stdout",
          "text": [
            "Requirement already satisfied: lime in /usr/local/lib/python3.11/dist-packages (0.2.0.1)\n",
            "Requirement already satisfied: matplotlib in /usr/local/lib/python3.11/dist-packages (from lime) (3.10.0)\n",
            "Requirement already satisfied: numpy in /usr/local/lib/python3.11/dist-packages (from lime) (1.26.4)\n",
            "Requirement already satisfied: scipy in /usr/local/lib/python3.11/dist-packages (from lime) (1.13.1)\n",
            "Requirement already satisfied: tqdm in /usr/local/lib/python3.11/dist-packages (from lime) (4.67.1)\n",
            "Requirement already satisfied: scikit-learn>=0.18 in /usr/local/lib/python3.11/dist-packages (from lime) (1.6.1)\n",
            "Requirement already satisfied: scikit-image>=0.12 in /usr/local/lib/python3.11/dist-packages (from lime) (0.25.2)\n",
            "Requirement already satisfied: networkx>=3.0 in /usr/local/lib/python3.11/dist-packages (from scikit-image>=0.12->lime) (3.4.2)\n",
            "Requirement already satisfied: pillow>=10.1 in /usr/local/lib/python3.11/dist-packages (from scikit-image>=0.12->lime) (11.1.0)\n",
            "Requirement already satisfied: imageio!=2.35.0,>=2.33 in /usr/local/lib/python3.11/dist-packages (from scikit-image>=0.12->lime) (2.37.0)\n",
            "Requirement already satisfied: tifffile>=2022.8.12 in /usr/local/lib/python3.11/dist-packages (from scikit-image>=0.12->lime) (2025.2.18)\n",
            "Requirement already satisfied: packaging>=21 in /usr/local/lib/python3.11/dist-packages (from scikit-image>=0.12->lime) (24.2)\n",
            "Requirement already satisfied: lazy-loader>=0.4 in /usr/local/lib/python3.11/dist-packages (from scikit-image>=0.12->lime) (0.4)\n",
            "Requirement already satisfied: joblib>=1.2.0 in /usr/local/lib/python3.11/dist-packages (from scikit-learn>=0.18->lime) (1.4.2)\n",
            "Requirement already satisfied: threadpoolctl>=3.1.0 in /usr/local/lib/python3.11/dist-packages (from scikit-learn>=0.18->lime) (3.5.0)\n",
            "Requirement already satisfied: contourpy>=1.0.1 in /usr/local/lib/python3.11/dist-packages (from matplotlib->lime) (1.3.1)\n",
            "Requirement already satisfied: cycler>=0.10 in /usr/local/lib/python3.11/dist-packages (from matplotlib->lime) (0.12.1)\n",
            "Requirement already satisfied: fonttools>=4.22.0 in /usr/local/lib/python3.11/dist-packages (from matplotlib->lime) (4.56.0)\n",
            "Requirement already satisfied: kiwisolver>=1.3.1 in /usr/local/lib/python3.11/dist-packages (from matplotlib->lime) (1.4.8)\n",
            "Requirement already satisfied: pyparsing>=2.3.1 in /usr/local/lib/python3.11/dist-packages (from matplotlib->lime) (3.2.1)\n",
            "Requirement already satisfied: python-dateutil>=2.7 in /usr/local/lib/python3.11/dist-packages (from matplotlib->lime) (2.8.2)\n",
            "Requirement already satisfied: six>=1.5 in /usr/local/lib/python3.11/dist-packages (from python-dateutil>=2.7->matplotlib->lime) (1.17.0)\n"
          ]
        }
      ]
    },
    {
      "cell_type": "code",
      "source": [
        "import lime\n",
        "import lime.lime_tabular\n",
        "import numpy as np\n",
        "import matplotlib.pyplot as plt\n",
        "\n",
        "try:\n",
        "    # Get transformed data\n",
        "    X_transformed = best_model['preprocessor'].transform(X_test)\n",
        "    X_selected = best_model['feature_selector'].transform(X_transformed)\n",
        "\n",
        "    # Print shapes for debugging\n",
        "    print(\"X_selected shape:\", X_selected.shape)\n",
        "\n",
        "    # LIME Analysis\n",
        "    lime_explainer = lime.lime_tabular.LimeTabularExplainer(\n",
        "        X_selected, feature_names=[f'Feature {i}' for i in range(X_selected.shape[1])],\n",
        "        class_names=['No Dialysis', 'Early Dialysis'], discretize_continuous=True\n",
        "    )\n",
        "\n",
        "    # Explain a single prediction\n",
        "    i = 0  # Index of instance to explain\n",
        "    exp = lime_explainer.explain_instance(X_selected[i], best_model['classifier'].predict_proba, num_features=10)\n",
        "\n",
        "    # Display explanation as a table\n",
        "    print(\"\\nLIME Explanation in Tabular Form:\")\n",
        "    explanation_table = exp.as_list()\n",
        "    for feature, importance in explanation_table:\n",
        "        print(f\"{feature}: {importance:.4f}\")\n",
        "\n",
        "    # Plot LIME results as a horizontal bar chart\n",
        "    features, values = zip(*explanation_table)\n",
        "    y_pos = np.arange(len(features))\n",
        "\n",
        "    plt.figure(figsize=(12, 8))\n",
        "    plt.barh(y_pos, values, align='center')\n",
        "    plt.yticks(y_pos, features)\n",
        "    plt.xlabel('Feature Importance Score')\n",
        "    plt.title('LIME Feature Importance in Early Dialysis Prediction')\n",
        "\n",
        "    for i, v in enumerate(values):\n",
        "        plt.text(v, i, f' {v:.4f}', va='center')\n",
        "\n",
        "    plt.tight_layout()\n",
        "    plt.show()\n",
        "\n",
        "except Exception as e:\n",
        "    print(f\"Error occurred: {str(e)}\")\n"
      ],
      "metadata": {
        "colab": {
          "base_uri": "https://localhost:8080/",
          "height": 1000
        },
        "id": "_4KMiUDLr3m9",
        "outputId": "60f41838-44d5-472b-87c8-6b3da08446d1"
      },
      "execution_count": 26,
      "outputs": [
        {
          "output_type": "stream",
          "name": "stdout",
          "text": [
            "X_selected shape: (356, 20)\n",
            "\n",
            "LIME Explanation in Tabular Form:\n",
            "Feature 10 > 0.57: -0.0505\n",
            "Feature 9 > 0.33: -0.0414\n",
            "Feature 5 > 0.44: -0.0406\n",
            "-0.40 < Feature 17 <= -0.00: -0.0354\n",
            "Feature 18 > 0.66: 0.0242\n",
            "-0.72 < Feature 6 <= -0.23: -0.0238\n",
            "Feature 16 > 0.74: -0.0238\n",
            "-0.69 < Feature 7 <= -0.19: 0.0215\n",
            "-0.30 < Feature 11 <= 0.15: 0.0201\n",
            "Feature 1 > 0.53: -0.0190\n"
          ]
        },
        {
          "output_type": "display_data",
          "data": {
            "text/plain": [
              "<Figure size 1200x800 with 1 Axes>"
            ],
            "image/png": "[encoded data removed]"
          },
          "metadata": {}
        }
      ]
    }
  ],
  "metadata": {
    "kernelspec": {
      "display_name": "base",
      "language": "python",
      "name": "python3"
    },
    "language_info": {
      "codemirror_mode": {
        "name": "ipython",
        "version": 3
      },
      "file_extension": ".py",
      "mimetype": "text/x-python",
      "name": "python",
      "nbconvert_exporter": "python",
      "pygments_lexer": "ipython3",
      "version": "3.10.9"
    },
    "colab": {
      "provenance": []
    }
  },
  "nbformat": 4,
  "nbformat_minor": 0
}