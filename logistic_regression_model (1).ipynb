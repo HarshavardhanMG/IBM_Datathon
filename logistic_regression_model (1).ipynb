{
  "cells": [
    {
      "cell_type": "markdown",
      "metadata": {
        "id": "phDxvGpHCW7P"
      },
      "source": [
        "Import Libraries"
      ]
    },
    {
      "cell_type": "code",
      "execution_count": 3,
      "metadata": {
        "id": "26XbmghOCW7S"
      },
      "outputs": [],
      "source": [
        "import pandas as pd\n",
        "import numpy as np\n",
        "from sklearn.model_selection import train_test_split, cross_val_score, StratifiedKFold\n",
        "from sklearn.preprocessing import StandardScaler\n",
        "from sklearn.linear_model import LogisticRegression\n",
        "from sklearn.metrics import roc_auc_score, precision_recall_curve, average_precision_score\n",
        "from sklearn.compose import ColumnTransformer\n",
        "from sklearn.preprocessing import OneHotEncoder\n",
        "from sklearn.feature_selection import SelectFromModel\n",
        "from sklearn.ensemble import RandomForestClassifier\n",
        "from imblearn.over_sampling import SMOTE\n",
        "from imblearn.pipeline import Pipeline\n",
        "\n"
      ]
    },
    {
      "cell_type": "markdown",
      "metadata": {
        "id": "gLXKyltyCW7U"
      },
      "source": [
        "Data Loading"
      ]
    },
    {
      "cell_type": "code",
      "execution_count": 4,
      "metadata": {
        "id": "bSq4b42_CW7V"
      },
      "outputs": [],
      "source": [
        "# Load the dataset\n",
        "df = pd.read_csv('/content/cleaned_data.csv')\n",
        "\n"
      ]
    },
    {
      "cell_type": "markdown",
      "metadata": {
        "id": "ltV8cXIVCW7V"
      },
      "source": [
        "Observation: Loading preprocessed data from a CSV file. The data is  already cleaned."
      ]
    },
    {
      "cell_type": "markdown",
      "metadata": {
        "id": "UIojH7tdCW7W"
      },
      "source": [
        "Feature and Target Definition"
      ]
    },
    {
      "cell_type": "code",
      "execution_count": 5,
      "metadata": {
        "id": "PRZDRQa8CW7W"
      },
      "outputs": [],
      "source": [
        "# Define features and target\n",
        "X = df.drop(['delay_rrt'], axis=1)\n",
        "y = df['delay_rrt']\n",
        "\n"
      ]
    },
    {
      "cell_type": "markdown",
      "metadata": {
        "id": "1hCEwCuiCW7a"
      },
      "source": [
        "Observation: Separating features (X) and target variable (y). The target variable 'delay_rrt' suggests this is a binary classification problem related to RRT (Renal Replacement Therapy) delays."
      ]
    },
    {
      "cell_type": "markdown",
      "metadata": {
        "id": "6Fbp4ByHCW7a"
      },
      "source": [
        "Train-Test Split"
      ]
    },
    {
      "cell_type": "code",
      "execution_count": 6,
      "metadata": {
        "id": "OFWrb0MLCW7b"
      },
      "outputs": [],
      "source": [
        "# Split data\n",
        "X_train, X_test, y_train, y_test = train_test_split(X, y, test_size=0.2, random_state=42, stratify=y)\n",
        "\n"
      ]
    },
    {
      "cell_type": "markdown",
      "metadata": {
        "id": "Ycr3Ep0CCW7b"
      },
      "source": [
        "Observation: Standard 80-20 train-test split with stratification to maintain class distribution. Random state set for reproducibility."
      ]
    },
    {
      "cell_type": "markdown",
      "metadata": {
        "id": "pZAuugiTCW7c"
      },
      "source": [
        "Feature Type Identification"
      ]
    },
    {
      "cell_type": "code",
      "execution_count": 7,
      "metadata": {
        "id": "oK61xq96CW7c"
      },
      "outputs": [],
      "source": [
        "# Identify categorical columns\n",
        "categorical_columns = X_train.select_dtypes(include=['object']).columns\n",
        "numeric_columns = X_train.select_dtypes(include=['float64', 'int64']).columns\n",
        "\n"
      ]
    },
    {
      "cell_type": "markdown",
      "metadata": {
        "id": "0YIb_0LDCW7c"
      },
      "source": [
        "Observation: Automatic identification of categorical and numerical columns based on data types."
      ]
    },
    {
      "cell_type": "markdown",
      "metadata": {
        "id": "F3fpin3gCW7d"
      },
      "source": [
        "Preprocessing Setup"
      ]
    },
    {
      "cell_type": "code",
      "execution_count": 8,
      "metadata": {
        "id": "gw8YX3OSCW7d"
      },
      "outputs": [],
      "source": [
        "# Create preprocessor\n",
        "preprocessor = ColumnTransformer([\n",
        "    ('num', StandardScaler(), numeric_columns),\n",
        "    ('cat', OneHotEncoder(drop='first', sparse_output=False), categorical_columns)\n",
        "])\n",
        "\n"
      ]
    },
    {
      "cell_type": "markdown",
      "metadata": {
        "id": "5zBOrqhECW7d"
      },
      "source": [
        "Observation: Setting up different preprocessing for numerical (standardization) and categorical (one-hot encoding) features. Using 'drop first' to avoid multicollinearity."
      ]
    },
    {
      "cell_type": "markdown",
      "metadata": {
        "id": "mSJo8icFCW7d"
      },
      "source": [
        "Feature Selection Setup"
      ]
    },
    {
      "cell_type": "code",
      "execution_count": 9,
      "metadata": {
        "id": "MiEgAkw9CW7d"
      },
      "outputs": [],
      "source": [
        "# Create feature selector using Random Forest\n",
        "feature_selector = SelectFromModel(\n",
        "    RandomForestClassifier(n_estimators=100, random_state=42),\n",
        "    max_features=20\n",
        ")\n",
        "\n"
      ]
    },
    {
      "cell_type": "markdown",
      "metadata": {
        "id": "5q1zpzbGCW7e"
      },
      "source": [
        "Observation: Using Random Forest for feature selection, limiting to top 20 most important features."
      ]
    },
    {
      "cell_type": "markdown",
      "metadata": {
        "id": "9RNfb8pACW7e"
      },
      "source": [
        "Pipeline Creation"
      ]
    },
    {
      "cell_type": "code",
      "execution_count": 10,
      "metadata": {
        "id": "uoj-rIZiCW7e"
      },
      "outputs": [],
      "source": [
        "# Create pipeline with SMOTE for handling class imbalance\n",
        "pipeline = Pipeline([\n",
        "    ('preprocessor', preprocessor),\n",
        "    ('feature_selector', feature_selector),\n",
        "    ('smote', SMOTE(random_state=42)),\n",
        "    ('classifier', LogisticRegression(random_state=42, class_weight='balanced'))\n",
        "])\n",
        "\n"
      ]
    },
    {
      "cell_type": "markdown",
      "metadata": {
        "id": "Th4edIKeCW7e"
      },
      "source": [
        "Observation: Comprehensive pipeline combining preprocessing, feature selection, SMOTE for imbalance, and logistic regression with balanced class weights."
      ]
    },
    {
      "cell_type": "markdown",
      "metadata": {
        "id": "1YCYpTTQCW7f"
      },
      "source": [
        "Hyperparameter Grid Definition"
      ]
    },
    {
      "cell_type": "code",
      "execution_count": 11,
      "metadata": {
        "id": "1VzZIJSuCW7f"
      },
      "outputs": [],
      "source": [
        "# Define broader hyperparameter space\n",
        "param_grid = {\n",
        "    'classifier__C': [0.001, 0.01, 0.1, 1, 10, 100],\n",
        "    'classifier__penalty': ['l1', 'l2'],\n",
        "    'classifier__solver': ['liblinear', 'saga'],\n",
        "    'classifier__max_iter': [1000]\n",
        "}\n",
        "\n"
      ]
    },
    {
      "cell_type": "markdown",
      "metadata": {
        "id": "fPZcsJxaCW7g"
      },
      "source": [
        "Observation: Extensive hyperparameter search space covering regularization strength, penalty types, and solver methods."
      ]
    },
    {
      "cell_type": "markdown",
      "metadata": {
        "id": "BsYuT6W0CW7g"
      },
      "source": [
        "Cross-Validation Setup"
      ]
    },
    {
      "cell_type": "code",
      "execution_count": 12,
      "metadata": {
        "id": "C0hsB4mRCW7g"
      },
      "outputs": [],
      "source": [
        "# Perform cross-validation with multiple metrics\n",
        "from sklearn.model_selection import GridSearchCV\n",
        "cv = StratifiedKFold(n_splits=5, shuffle=True, random_state=42)\n",
        "grid_search = GridSearchCV(\n",
        "    pipeline,\n",
        "    param_grid,\n",
        "    cv=cv,\n",
        "    scoring={\n",
        "        'auc': 'roc_auc',\n",
        "        'precision': 'precision',\n",
        "        'recall': 'recall',\n",
        "        'f1': 'f1'\n",
        "    },\n",
        "    refit='auc'\n",
        ")\n",
        "\n"
      ]
    },
    {
      "cell_type": "markdown",
      "metadata": {
        "id": "ShSkIXMeCW7h"
      },
      "source": [
        "Observation: 5-fold stratified cross-validation with multiple performance metrics. Model will be optimized for AUC-ROC score."
      ]
    },
    {
      "cell_type": "markdown",
      "metadata": {
        "id": "9gOZ_GmSCW7h"
      },
      "source": [
        "Model Training"
      ]
    },
    {
      "cell_type": "code",
      "execution_count": 13,
      "metadata": {
        "colab": {
          "base_uri": "https://localhost:8080/",
          "height": 720
        },
        "id": "2-lpY-kICW7h",
        "outputId": "55088918-c6a0-4faf-82c1-c7714fd6f531"
      },
      "outputs": [
        {
          "name": "stderr",
          "output_type": "stream",
          "text": [
            "/usr/local/lib/python3.11/dist-packages/sklearn/metrics/_classification.py:1565: UndefinedMetricWarning: Precision is ill-defined and being set to 0.0 due to no predicted samples. Use `zero_division` parameter to control this behavior.\n",
            "  _warn_prf(average, modifier, f\"{metric.capitalize()} is\", len(result))\n",
            "/usr/local/lib/python3.11/dist-packages/sklearn/metrics/_classification.py:1565: UndefinedMetricWarning: Precision is ill-defined and being set to 0.0 due to no predicted samples. Use `zero_division` parameter to control this behavior.\n",
            "  _warn_prf(average, modifier, f\"{metric.capitalize()} is\", len(result))\n",
            "/usr/local/lib/python3.11/dist-packages/sklearn/metrics/_classification.py:1565: UndefinedMetricWarning: Precision is ill-defined and being set to 0.0 due to no predicted samples. Use `zero_division` parameter to control this behavior.\n",
            "  _warn_prf(average, modifier, f\"{metric.capitalize()} is\", len(result))\n",
            "/usr/local/lib/python3.11/dist-packages/sklearn/metrics/_classification.py:1565: UndefinedMetricWarning: Precision is ill-defined and being set to 0.0 due to no predicted samples. Use `zero_division` parameter to control this behavior.\n",
            "  _warn_prf(average, modifier, f\"{metric.capitalize()} is\", len(result))\n",
            "/usr/local/lib/python3.11/dist-packages/sklearn/metrics/_classification.py:1565: UndefinedMetricWarning: Precision is ill-defined and being set to 0.0 due to no predicted samples. Use `zero_division` parameter to control this behavior.\n",
            "  _warn_prf(average, modifier, f\"{metric.capitalize()} is\", len(result))\n",
            "/usr/local/lib/python3.11/dist-packages/sklearn/metrics/_classification.py:1565: UndefinedMetricWarning: Precision is ill-defined and being set to 0.0 due to no predicted samples. Use `zero_division` parameter to control this behavior.\n",
            "  _warn_prf(average, modifier, f\"{metric.capitalize()} is\", len(result))\n"
          ]
        },
        {
          "data": {
            "text/html": [
              "<style>#sk-container-id-1 {\n",
              "  /* Definition of color scheme common for light and dark mode */\n",
              "  --sklearn-color-text: #000;\n",
              "  --sklearn-color-text-muted: #666;\n",
              "  --sklearn-color-line: gray;\n",
              "  /* Definition of color scheme for unfitted estimators */\n",
              "  --sklearn-color-unfitted-level-0: #fff5e6;\n",
              "  --sklearn-color-unfitted-level-1: #f6e4d2;\n",
              "  --sklearn-color-unfitted-level-2: #ffe0b3;\n",
              "  --sklearn-color-unfitted-level-3: chocolate;\n",
              "  /* Definition of color scheme for fitted estimators */\n",
              "  --sklearn-color-fitted-level-0: #f0f8ff;\n",
              "  --sklearn-color-fitted-level-1: #d4ebff;\n",
              "  --sklearn-color-fitted-level-2: #b3dbfd;\n",
              "  --sklearn-color-fitted-level-3: cornflowerblue;\n",
              "\n",
              "  /* Specific color for light theme */\n",
              "  --sklearn-color-text-on-default-background: var(--sg-text-color, var(--theme-code-foreground, var(--jp-content-font-color1, black)));\n",
              "  --sklearn-color-background: var(--sg-background-color, var(--theme-background, var(--jp-layout-color0, white)));\n",
              "  --sklearn-color-border-box: var(--sg-text-color, var(--theme-code-foreground, var(--jp-content-font-color1, black)));\n",
              "  --sklearn-color-icon: #696969;\n",
              "\n",
              "  @media (prefers-color-scheme: dark) {\n",
              "    /* Redefinition of color scheme for dark theme */\n",
              "    --sklearn-color-text-on-default-background: var(--sg-text-color, var(--theme-code-foreground, var(--jp-content-font-color1, white)));\n",
              "    --sklearn-color-background: var(--sg-background-color, var(--theme-background, var(--jp-layout-color0, #111)));\n",
              "    --sklearn-color-border-box: var(--sg-text-color, var(--theme-code-foreground, var(--jp-content-font-color1, white)));\n",
              "    --sklearn-color-icon: #878787;\n",
              "  }\n",
              "}\n",
              "\n",
              "#sk-container-id-1 {\n",
              "  color: var(--sklearn-color-text);\n",
              "}\n",
              "\n",
              "#sk-container-id-1 pre {\n",
              "  padding: 0;\n",
              "}\n",
              "\n",
              "#sk-container-id-1 input.sk-hidden--visually {\n",
              "  border: 0;\n",
              "  clip: rect(1px 1px 1px 1px);\n",
              "  clip: rect(1px, 1px, 1px, 1px);\n",
              "  height: 1px;\n",
              "  margin: -1px;\n",
              "  overflow: hidden;\n",
              "  padding: 0;\n",
              "  position: absolute;\n",
              "  width: 1px;\n",
              "}\n",
              "\n",
              "#sk-container-id-1 div.sk-dashed-wrapped {\n",
              "  border: 1px dashed var(--sklearn-color-line);\n",
              "  margin: 0 0.4em 0.5em 0.4em;\n",
              "  box-sizing: border-box;\n",
              "  padding-bottom: 0.4em;\n",
              "  background-color: var(--sklearn-color-background);\n",
              "}\n",
              "\n",
              "#sk-container-id-1 div.sk-container {\n",
              "  /* jupyter's `normalize.less` sets `[hidden] { display: none; }`\n",
              "     but bootstrap.min.css set `[hidden] { display: none !important; }`\n",
              "     so we also need the `!important` here to be able to override the\n",
              "     default hidden behavior on the sphinx rendered scikit-learn.org.\n",
              "     See: https://github.com/scikit-learn/scikit-learn/issues/21755 */\n",
              "  display: inline-block !important;\n",
              "  position: relative;\n",
              "}\n",
              "\n",
              "#sk-container-id-1 div.sk-text-repr-fallback {\n",
              "  display: none;\n",
              "}\n",
              "\n",
              "div.sk-parallel-item,\n",
              "div.sk-serial,\n",
              "div.sk-item {\n",
              "  /* draw centered vertical line to link estimators */\n",
              "  background-image: linear-gradient(var(--sklearn-color-text-on-default-background), var(--sklearn-color-text-on-default-background));\n",
              "  background-size: 2px 100%;\n",
              "  background-repeat: no-repeat;\n",
              "  background-position: center center;\n",
              "}\n",
              "\n",
              "/* Parallel-specific style estimator block */\n",
              "\n",
              "#sk-container-id-1 div.sk-parallel-item::after {\n",
              "  content: \"\";\n",
              "  width: 100%;\n",
              "  border-bottom: 2px solid var(--sklearn-color-text-on-default-background);\n",
              "  flex-grow: 1;\n",
              "}\n",
              "\n",
              "#sk-container-id-1 div.sk-parallel {\n",
              "  display: flex;\n",
              "  align-items: stretch;\n",
              "  justify-content: center;\n",
              "  background-color: var(--sklearn-color-background);\n",
              "  position: relative;\n",
              "}\n",
              "\n",
              "#sk-container-id-1 div.sk-parallel-item {\n",
              "  display: flex;\n",
              "  flex-direction: column;\n",
              "}\n",
              "\n",
              "#sk-container-id-1 div.sk-parallel-item:first-child::after {\n",
              "  align-self: flex-end;\n",
              "  width: 50%;\n",
              "}\n",
              "\n",
              "#sk-container-id-1 div.sk-parallel-item:last-child::after {\n",
              "  align-self: flex-start;\n",
              "  width: 50%;\n",
              "}\n",
              "\n",
              "#sk-container-id-1 div.sk-parallel-item:only-child::after {\n",
              "  width: 0;\n",
              "}\n",
              "\n",
              "/* Serial-specific style estimator block */\n",
              "\n",
              "#sk-container-id-1 div.sk-serial {\n",
              "  display: flex;\n",
              "  flex-direction: column;\n",
              "  align-items: center;\n",
              "  background-color: var(--sklearn-color-background);\n",
              "  padding-right: 1em;\n",
              "  padding-left: 1em;\n",
              "}\n",
              "\n",
              "\n",
              "/* Toggleable style: style used for estimator/Pipeline/ColumnTransformer box that is\n",
              "clickable and can be expanded/collapsed.\n",
              "- Pipeline and ColumnTransformer use this feature and define the default style\n",
              "- Estimators will overwrite some part of the style using the `sk-estimator` class\n",
              "*/\n",
              "\n",
              "/* Pipeline and ColumnTransformer style (default) */\n",
              "\n",
              "#sk-container-id-1 div.sk-toggleable {\n",
              "  /* Default theme specific background. It is overwritten whether we have a\n",
              "  specific estimator or a Pipeline/ColumnTransformer */\n",
              "  background-color: var(--sklearn-color-background);\n",
              "}\n",
              "\n",
              "/* Toggleable label */\n",
              "#sk-container-id-1 label.sk-toggleable__label {\n",
              "  cursor: pointer;\n",
              "  display: flex;\n",
              "  width: 100%;\n",
              "  margin-bottom: 0;\n",
              "  padding: 0.5em;\n",
              "  box-sizing: border-box;\n",
              "  text-align: center;\n",
              "  align-items: start;\n",
              "  justify-content: space-between;\n",
              "  gap: 0.5em;\n",
              "}\n",
              "\n",
              "#sk-container-id-1 label.sk-toggleable__label .caption {\n",
              "  font-size: 0.6rem;\n",
              "  font-weight: lighter;\n",
              "  color: var(--sklearn-color-text-muted);\n",
              "}\n",
              "\n",
              "#sk-container-id-1 label.sk-toggleable__label-arrow:before {\n",
              "  /* Arrow on the left of the label */\n",
              "  content: \"▸\";\n",
              "  float: left;\n",
              "  margin-right: 0.25em;\n",
              "  color: var(--sklearn-color-icon);\n",
              "}\n",
              "\n",
              "#sk-container-id-1 label.sk-toggleable__label-arrow:hover:before {\n",
              "  color: var(--sklearn-color-text);\n",
              "}\n",
              "\n",
              "/* Toggleable content - dropdown */\n",
              "\n",
              "#sk-container-id-1 div.sk-toggleable__content {\n",
              "  max-height: 0;\n",
              "  max-width: 0;\n",
              "  overflow: hidden;\n",
              "  text-align: left;\n",
              "  /* unfitted */\n",
              "  background-color: var(--sklearn-color-unfitted-level-0);\n",
              "}\n",
              "\n",
              "#sk-container-id-1 div.sk-toggleable__content.fitted {\n",
              "  /* fitted */\n",
              "  background-color: var(--sklearn-color-fitted-level-0);\n",
              "}\n",
              "\n",
              "#sk-container-id-1 div.sk-toggleable__content pre {\n",
              "  margin: 0.2em;\n",
              "  border-radius: 0.25em;\n",
              "  color: var(--sklearn-color-text);\n",
              "  /* unfitted */\n",
              "  background-color: var(--sklearn-color-unfitted-level-0);\n",
              "}\n",
              "\n",
              "#sk-container-id-1 div.sk-toggleable__content.fitted pre {\n",
              "  /* unfitted */\n",
              "  background-color: var(--sklearn-color-fitted-level-0);\n",
              "}\n",
              "\n",
              "#sk-container-id-1 input.sk-toggleable__control:checked~div.sk-toggleable__content {\n",
              "  /* Expand drop-down */\n",
              "  max-height: 200px;\n",
              "  max-width: 100%;\n",
              "  overflow: auto;\n",
              "}\n",
              "\n",
              "#sk-container-id-1 input.sk-toggleable__control:checked~label.sk-toggleable__label-arrow:before {\n",
              "  content: \"▾\";\n",
              "}\n",
              "\n",
              "/* Pipeline/ColumnTransformer-specific style */\n",
              "\n",
              "#sk-container-id-1 div.sk-label input.sk-toggleable__control:checked~label.sk-toggleable__label {\n",
              "  color: var(--sklearn-color-text);\n",
              "  background-color: var(--sklearn-color-unfitted-level-2);\n",
              "}\n",
              "\n",
              "#sk-container-id-1 div.sk-label.fitted input.sk-toggleable__control:checked~label.sk-toggleable__label {\n",
              "  background-color: var(--sklearn-color-fitted-level-2);\n",
              "}\n",
              "\n",
              "/* Estimator-specific style */\n",
              "\n",
              "/* Colorize estimator box */\n",
              "#sk-container-id-1 div.sk-estimator input.sk-toggleable__control:checked~label.sk-toggleable__label {\n",
              "  /* unfitted */\n",
              "  background-color: var(--sklearn-color-unfitted-level-2);\n",
              "}\n",
              "\n",
              "#sk-container-id-1 div.sk-estimator.fitted input.sk-toggleable__control:checked~label.sk-toggleable__label {\n",
              "  /* fitted */\n",
              "  background-color: var(--sklearn-color-fitted-level-2);\n",
              "}\n",
              "\n",
              "#sk-container-id-1 div.sk-label label.sk-toggleable__label,\n",
              "#sk-container-id-1 div.sk-label label {\n",
              "  /* The background is the default theme color */\n",
              "  color: var(--sklearn-color-text-on-default-background);\n",
              "}\n",
              "\n",
              "/* On hover, darken the color of the background */\n",
              "#sk-container-id-1 div.sk-label:hover label.sk-toggleable__label {\n",
              "  color: var(--sklearn-color-text);\n",
              "  background-color: var(--sklearn-color-unfitted-level-2);\n",
              "}\n",
              "\n",
              "/* Label box, darken color on hover, fitted */\n",
              "#sk-container-id-1 div.sk-label.fitted:hover label.sk-toggleable__label.fitted {\n",
              "  color: var(--sklearn-color-text);\n",
              "  background-color: var(--sklearn-color-fitted-level-2);\n",
              "}\n",
              "\n",
              "/* Estimator label */\n",
              "\n",
              "#sk-container-id-1 div.sk-label label {\n",
              "  font-family: monospace;\n",
              "  font-weight: bold;\n",
              "  display: inline-block;\n",
              "  line-height: 1.2em;\n",
              "}\n",
              "\n",
              "#sk-container-id-1 div.sk-label-container {\n",
              "  text-align: center;\n",
              "}\n",
              "\n",
              "/* Estimator-specific */\n",
              "#sk-container-id-1 div.sk-estimator {\n",
              "  font-family: monospace;\n",
              "  border: 1px dotted var(--sklearn-color-border-box);\n",
              "  border-radius: 0.25em;\n",
              "  box-sizing: border-box;\n",
              "  margin-bottom: 0.5em;\n",
              "  /* unfitted */\n",
              "  background-color: var(--sklearn-color-unfitted-level-0);\n",
              "}\n",
              "\n",
              "#sk-container-id-1 div.sk-estimator.fitted {\n",
              "  /* fitted */\n",
              "  background-color: var(--sklearn-color-fitted-level-0);\n",
              "}\n",
              "\n",
              "/* on hover */\n",
              "#sk-container-id-1 div.sk-estimator:hover {\n",
              "  /* unfitted */\n",
              "  background-color: var(--sklearn-color-unfitted-level-2);\n",
              "}\n",
              "\n",
              "#sk-container-id-1 div.sk-estimator.fitted:hover {\n",
              "  /* fitted */\n",
              "  background-color: var(--sklearn-color-fitted-level-2);\n",
              "}\n",
              "\n",
              "/* Specification for estimator info (e.g. \"i\" and \"?\") */\n",
              "\n",
              "/* Common style for \"i\" and \"?\" */\n",
              "\n",
              ".sk-estimator-doc-link,\n",
              "a:link.sk-estimator-doc-link,\n",
              "a:visited.sk-estimator-doc-link {\n",
              "  float: right;\n",
              "  font-size: smaller;\n",
              "  line-height: 1em;\n",
              "  font-family: monospace;\n",
              "  background-color: var(--sklearn-color-background);\n",
              "  border-radius: 1em;\n",
              "  height: 1em;\n",
              "  width: 1em;\n",
              "  text-decoration: none !important;\n",
              "  margin-left: 0.5em;\n",
              "  text-align: center;\n",
              "  /* unfitted */\n",
              "  border: var(--sklearn-color-unfitted-level-1) 1pt solid;\n",
              "  color: var(--sklearn-color-unfitted-level-1);\n",
              "}\n",
              "\n",
              ".sk-estimator-doc-link.fitted,\n",
              "a:link.sk-estimator-doc-link.fitted,\n",
              "a:visited.sk-estimator-doc-link.fitted {\n",
              "  /* fitted */\n",
              "  border: var(--sklearn-color-fitted-level-1) 1pt solid;\n",
              "  color: var(--sklearn-color-fitted-level-1);\n",
              "}\n",
              "\n",
              "/* On hover */\n",
              "div.sk-estimator:hover .sk-estimator-doc-link:hover,\n",
              ".sk-estimator-doc-link:hover,\n",
              "div.sk-label-container:hover .sk-estimator-doc-link:hover,\n",
              ".sk-estimator-doc-link:hover {\n",
              "  /* unfitted */\n",
              "  background-color: var(--sklearn-color-unfitted-level-3);\n",
              "  color: var(--sklearn-color-background);\n",
              "  text-decoration: none;\n",
              "}\n",
              "\n",
              "div.sk-estimator.fitted:hover .sk-estimator-doc-link.fitted:hover,\n",
              ".sk-estimator-doc-link.fitted:hover,\n",
              "div.sk-label-container:hover .sk-estimator-doc-link.fitted:hover,\n",
              ".sk-estimator-doc-link.fitted:hover {\n",
              "  /* fitted */\n",
              "  background-color: var(--sklearn-color-fitted-level-3);\n",
              "  color: var(--sklearn-color-background);\n",
              "  text-decoration: none;\n",
              "}\n",
              "\n",
              "/* Span, style for the box shown on hovering the info icon */\n",
              ".sk-estimator-doc-link span {\n",
              "  display: none;\n",
              "  z-index: 9999;\n",
              "  position: relative;\n",
              "  font-weight: normal;\n",
              "  right: .2ex;\n",
              "  padding: .5ex;\n",
              "  margin: .5ex;\n",
              "  width: min-content;\n",
              "  min-width: 20ex;\n",
              "  max-width: 50ex;\n",
              "  color: var(--sklearn-color-text);\n",
              "  box-shadow: 2pt 2pt 4pt #999;\n",
              "  /* unfitted */\n",
              "  background: var(--sklearn-color-unfitted-level-0);\n",
              "  border: .5pt solid var(--sklearn-color-unfitted-level-3);\n",
              "}\n",
              "\n",
              ".sk-estimator-doc-link.fitted span {\n",
              "  /* fitted */\n",
              "  background: var(--sklearn-color-fitted-level-0);\n",
              "  border: var(--sklearn-color-fitted-level-3);\n",
              "}\n",
              "\n",
              ".sk-estimator-doc-link:hover span {\n",
              "  display: block;\n",
              "}\n",
              "\n",
              "/* \"?\"-specific style due to the `<a>` HTML tag */\n",
              "\n",
              "#sk-container-id-1 a.estimator_doc_link {\n",
              "  float: right;\n",
              "  font-size: 1rem;\n",
              "  line-height: 1em;\n",
              "  font-family: monospace;\n",
              "  background-color: var(--sklearn-color-background);\n",
              "  border-radius: 1rem;\n",
              "  height: 1rem;\n",
              "  width: 1rem;\n",
              "  text-decoration: none;\n",
              "  /* unfitted */\n",
              "  color: var(--sklearn-color-unfitted-level-1);\n",
              "  border: var(--sklearn-color-unfitted-level-1) 1pt solid;\n",
              "}\n",
              "\n",
              "#sk-container-id-1 a.estimator_doc_link.fitted {\n",
              "  /* fitted */\n",
              "  border: var(--sklearn-color-fitted-level-1) 1pt solid;\n",
              "  color: var(--sklearn-color-fitted-level-1);\n",
              "}\n",
              "\n",
              "/* On hover */\n",
              "#sk-container-id-1 a.estimator_doc_link:hover {\n",
              "  /* unfitted */\n",
              "  background-color: var(--sklearn-color-unfitted-level-3);\n",
              "  color: var(--sklearn-color-background);\n",
              "  text-decoration: none;\n",
              "}\n",
              "\n",
              "#sk-container-id-1 a.estimator_doc_link.fitted:hover {\n",
              "  /* fitted */\n",
              "  background-color: var(--sklearn-color-fitted-level-3);\n",
              "}\n",
              "</style><div id=\"sk-container-id-1\" class=\"sk-top-container\"><div class=\"sk-text-repr-fallback\"><pre>GridSearchCV(cv=StratifiedKFold(n_splits=5, random_state=42, shuffle=True),\n",
              "             estimator=Pipeline(steps=[(&#x27;preprocessor&#x27;,\n",
              "                                        ColumnTransformer(transformers=[(&#x27;num&#x27;,\n",
              "                                                                         StandardScaler(),\n",
              "                                                                         Index([&#x27;weight&#x27;, &#x27;aki_stage&#x27;, &#x27;gender&#x27;, &#x27;admission_age&#x27;, &#x27;hematocrit_min&#x27;,\n",
              "       &#x27;hematocrit_max&#x27;, &#x27;hemoglobin_min&#x27;, &#x27;hemoglobin_max&#x27;, &#x27;platelets_min&#x27;,\n",
              "       &#x27;platelets_max&#x27;, &#x27;wbc_min&#x27;, &#x27;wbc_max&#x27;, &#x27;anion...\n",
              "                                       (&#x27;smote&#x27;, SMOTE(random_state=42)),\n",
              "                                       (&#x27;classifier&#x27;,\n",
              "                                        LogisticRegression(class_weight=&#x27;balanced&#x27;,\n",
              "                                                           random_state=42))]),\n",
              "             param_grid={&#x27;classifier__C&#x27;: [0.001, 0.01, 0.1, 1, 10, 100],\n",
              "                         &#x27;classifier__max_iter&#x27;: [1000],\n",
              "                         &#x27;classifier__penalty&#x27;: [&#x27;l1&#x27;, &#x27;l2&#x27;],\n",
              "                         &#x27;classifier__solver&#x27;: [&#x27;liblinear&#x27;, &#x27;saga&#x27;]},\n",
              "             refit=&#x27;auc&#x27;,\n",
              "             scoring={&#x27;auc&#x27;: &#x27;roc_auc&#x27;, &#x27;f1&#x27;: &#x27;f1&#x27;, &#x27;precision&#x27;: &#x27;precision&#x27;,\n",
              "                      &#x27;recall&#x27;: &#x27;recall&#x27;})</pre><b>In a Jupyter environment, please rerun this cell to show the HTML representation or trust the notebook. <br />On GitHub, the HTML representation is unable to render, please try loading this page with nbviewer.org.</b></div><div class=\"sk-container\" hidden><div class=\"sk-item sk-dashed-wrapped\"><div class=\"sk-label-container\"><div class=\"sk-label fitted sk-toggleable\"><input class=\"sk-toggleable__control sk-hidden--visually\" id=\"sk-estimator-id-1\" type=\"checkbox\" ><label for=\"sk-estimator-id-1\" class=\"sk-toggleable__label fitted sk-toggleable__label-arrow\"><div><div>GridSearchCV</div></div><div><a class=\"sk-estimator-doc-link fitted\" rel=\"noreferrer\" target=\"_blank\" href=\"https://scikit-learn.org/1.6/modules/generated/sklearn.model_selection.GridSearchCV.html\">?<span>Documentation for GridSearchCV</span></a><span class=\"sk-estimator-doc-link fitted\">i<span>Fitted</span></span></div></label><div class=\"sk-toggleable__content fitted\"><pre>GridSearchCV(cv=StratifiedKFold(n_splits=5, random_state=42, shuffle=True),\n",
              "             estimator=Pipeline(steps=[(&#x27;preprocessor&#x27;,\n",
              "                                        ColumnTransformer(transformers=[(&#x27;num&#x27;,\n",
              "                                                                         StandardScaler(),\n",
              "                                                                         Index([&#x27;weight&#x27;, &#x27;aki_stage&#x27;, &#x27;gender&#x27;, &#x27;admission_age&#x27;, &#x27;hematocrit_min&#x27;,\n",
              "       &#x27;hematocrit_max&#x27;, &#x27;hemoglobin_min&#x27;, &#x27;hemoglobin_max&#x27;, &#x27;platelets_min&#x27;,\n",
              "       &#x27;platelets_max&#x27;, &#x27;wbc_min&#x27;, &#x27;wbc_max&#x27;, &#x27;anion...\n",
              "                                       (&#x27;smote&#x27;, SMOTE(random_state=42)),\n",
              "                                       (&#x27;classifier&#x27;,\n",
              "                                        LogisticRegression(class_weight=&#x27;balanced&#x27;,\n",
              "                                                           random_state=42))]),\n",
              "             param_grid={&#x27;classifier__C&#x27;: [0.001, 0.01, 0.1, 1, 10, 100],\n",
              "                         &#x27;classifier__max_iter&#x27;: [1000],\n",
              "                         &#x27;classifier__penalty&#x27;: [&#x27;l1&#x27;, &#x27;l2&#x27;],\n",
              "                         &#x27;classifier__solver&#x27;: [&#x27;liblinear&#x27;, &#x27;saga&#x27;]},\n",
              "             refit=&#x27;auc&#x27;,\n",
              "             scoring={&#x27;auc&#x27;: &#x27;roc_auc&#x27;, &#x27;f1&#x27;: &#x27;f1&#x27;, &#x27;precision&#x27;: &#x27;precision&#x27;,\n",
              "                      &#x27;recall&#x27;: &#x27;recall&#x27;})</pre></div> </div></div><div class=\"sk-parallel\"><div class=\"sk-parallel-item\"><div class=\"sk-item\"><div class=\"sk-label-container\"><div class=\"sk-label fitted sk-toggleable\"><input class=\"sk-toggleable__control sk-hidden--visually\" id=\"sk-estimator-id-2\" type=\"checkbox\" ><label for=\"sk-estimator-id-2\" class=\"sk-toggleable__label fitted sk-toggleable__label-arrow\"><div><div>best_estimator_: Pipeline</div></div></label><div class=\"sk-toggleable__content fitted\"><pre>Pipeline(steps=[(&#x27;preprocessor&#x27;,\n",
              "                 ColumnTransformer(transformers=[(&#x27;num&#x27;, StandardScaler(),\n",
              "                                                  Index([&#x27;weight&#x27;, &#x27;aki_stage&#x27;, &#x27;gender&#x27;, &#x27;admission_age&#x27;, &#x27;hematocrit_min&#x27;,\n",
              "       &#x27;hematocrit_max&#x27;, &#x27;hemoglobin_min&#x27;, &#x27;hemoglobin_max&#x27;, &#x27;platelets_min&#x27;,\n",
              "       &#x27;platelets_max&#x27;, &#x27;wbc_min&#x27;, &#x27;wbc_max&#x27;, &#x27;aniongap_min&#x27;, &#x27;aniongap_max&#x27;,\n",
              "       &#x27;bicarbonate_min&#x27;, &#x27;bicarbonate_max&#x27;, &#x27;bun_min&#x27;, &#x27;bun_max&#x27;,\n",
              "       &#x27;ca...\n",
              "                                                  OneHotEncoder(drop=&#x27;first&#x27;,\n",
              "                                                                sparse_output=False),\n",
              "                                                  Index([&#x27;ethnicity&#x27;], dtype=&#x27;object&#x27;))])),\n",
              "                (&#x27;feature_selector&#x27;,\n",
              "                 SelectFromModel(estimator=RandomForestClassifier(random_state=42),\n",
              "                                 max_features=20)),\n",
              "                (&#x27;smote&#x27;, SMOTE(random_state=42)),\n",
              "                (&#x27;classifier&#x27;,\n",
              "                 LogisticRegression(C=0.1, class_weight=&#x27;balanced&#x27;,\n",
              "                                    max_iter=1000, penalty=&#x27;l1&#x27;,\n",
              "                                    random_state=42, solver=&#x27;liblinear&#x27;))])</pre></div> </div></div><div class=\"sk-serial\"><div class=\"sk-item\"><div class=\"sk-serial\"><div class=\"sk-item sk-dashed-wrapped\"><div class=\"sk-label-container\"><div class=\"sk-label fitted sk-toggleable\"><input class=\"sk-toggleable__control sk-hidden--visually\" id=\"sk-estimator-id-3\" type=\"checkbox\" ><label for=\"sk-estimator-id-3\" class=\"sk-toggleable__label fitted sk-toggleable__label-arrow\"><div><div>preprocessor: ColumnTransformer</div></div><div><a class=\"sk-estimator-doc-link fitted\" rel=\"noreferrer\" target=\"_blank\" href=\"https://scikit-learn.org/1.6/modules/generated/sklearn.compose.ColumnTransformer.html\">?<span>Documentation for preprocessor: ColumnTransformer</span></a></div></label><div class=\"sk-toggleable__content fitted\"><pre>ColumnTransformer(transformers=[(&#x27;num&#x27;, StandardScaler(),\n",
              "                                 Index([&#x27;weight&#x27;, &#x27;aki_stage&#x27;, &#x27;gender&#x27;, &#x27;admission_age&#x27;, &#x27;hematocrit_min&#x27;,\n",
              "       &#x27;hematocrit_max&#x27;, &#x27;hemoglobin_min&#x27;, &#x27;hemoglobin_max&#x27;, &#x27;platelets_min&#x27;,\n",
              "       &#x27;platelets_max&#x27;, &#x27;wbc_min&#x27;, &#x27;wbc_max&#x27;, &#x27;aniongap_min&#x27;, &#x27;aniongap_max&#x27;,\n",
              "       &#x27;bicarbonate_min&#x27;, &#x27;bicarbonate_max&#x27;, &#x27;bun_min&#x27;, &#x27;bun_max&#x27;,\n",
              "       &#x27;calcium_min&#x27;, &#x27;calcium_max&#x27;, &#x27;chlori...\n",
              "       &#x27;creatinine_min&#x27;, &#x27;creatinine_max&#x27;, &#x27;glucose_min&#x27;, &#x27;glucose_max&#x27;,\n",
              "       &#x27;sodium_min&#x27;, &#x27;sodium_max&#x27;, &#x27;potassium_min&#x27;, &#x27;potassium_max&#x27;, &#x27;inr_max&#x27;,\n",
              "       &#x27;pt_max&#x27;, &#x27;ptt_max&#x27;, &#x27;heart_rate_mean&#x27;, &#x27;sbp_mean&#x27;, &#x27;dbp_mean&#x27;,\n",
              "       &#x27;mbp_mean&#x27;, &#x27;resp_rate_mean&#x27;, &#x27;temperature_mean&#x27;, &#x27;spo2_mean&#x27;,\n",
              "       &#x27;glucose_mean&#x27;, &#x27;gcs_min&#x27;],\n",
              "      dtype=&#x27;object&#x27;)),\n",
              "                                (&#x27;cat&#x27;,\n",
              "                                 OneHotEncoder(drop=&#x27;first&#x27;,\n",
              "                                               sparse_output=False),\n",
              "                                 Index([&#x27;ethnicity&#x27;], dtype=&#x27;object&#x27;))])</pre></div> </div></div><div class=\"sk-parallel\"><div class=\"sk-parallel-item\"><div class=\"sk-item\"><div class=\"sk-label-container\"><div class=\"sk-label fitted sk-toggleable\"><input class=\"sk-toggleable__control sk-hidden--visually\" id=\"sk-estimator-id-4\" type=\"checkbox\" ><label for=\"sk-estimator-id-4\" class=\"sk-toggleable__label fitted sk-toggleable__label-arrow\"><div><div>num</div></div></label><div class=\"sk-toggleable__content fitted\"><pre>Index([&#x27;weight&#x27;, &#x27;aki_stage&#x27;, &#x27;gender&#x27;, &#x27;admission_age&#x27;, &#x27;hematocrit_min&#x27;,\n",
              "       &#x27;hematocrit_max&#x27;, &#x27;hemoglobin_min&#x27;, &#x27;hemoglobin_max&#x27;, &#x27;platelets_min&#x27;,\n",
              "       &#x27;platelets_max&#x27;, &#x27;wbc_min&#x27;, &#x27;wbc_max&#x27;, &#x27;aniongap_min&#x27;, &#x27;aniongap_max&#x27;,\n",
              "       &#x27;bicarbonate_min&#x27;, &#x27;bicarbonate_max&#x27;, &#x27;bun_min&#x27;, &#x27;bun_max&#x27;,\n",
              "       &#x27;calcium_min&#x27;, &#x27;calcium_max&#x27;, &#x27;chloride_min&#x27;, &#x27;chloride_max&#x27;,\n",
              "       &#x27;creatinine_min&#x27;, &#x27;creatinine_max&#x27;, &#x27;glucose_min&#x27;, &#x27;glucose_max&#x27;,\n",
              "       &#x27;sodium_min&#x27;, &#x27;sodium_max&#x27;, &#x27;potassium_min&#x27;, &#x27;potassium_max&#x27;, &#x27;inr_max&#x27;,\n",
              "       &#x27;pt_max&#x27;, &#x27;ptt_max&#x27;, &#x27;heart_rate_mean&#x27;, &#x27;sbp_mean&#x27;, &#x27;dbp_mean&#x27;,\n",
              "       &#x27;mbp_mean&#x27;, &#x27;resp_rate_mean&#x27;, &#x27;temperature_mean&#x27;, &#x27;spo2_mean&#x27;,\n",
              "       &#x27;glucose_mean&#x27;, &#x27;gcs_min&#x27;],\n",
              "      dtype=&#x27;object&#x27;)</pre></div> </div></div><div class=\"sk-serial\"><div class=\"sk-item\"><div class=\"sk-estimator fitted sk-toggleable\"><input class=\"sk-toggleable__control sk-hidden--visually\" id=\"sk-estimator-id-5\" type=\"checkbox\" ><label for=\"sk-estimator-id-5\" class=\"sk-toggleable__label fitted sk-toggleable__label-arrow\"><div><div>StandardScaler</div></div><div><a class=\"sk-estimator-doc-link fitted\" rel=\"noreferrer\" target=\"_blank\" href=\"https://scikit-learn.org/1.6/modules/generated/sklearn.preprocessing.StandardScaler.html\">?<span>Documentation for StandardScaler</span></a></div></label><div class=\"sk-toggleable__content fitted\"><pre>StandardScaler()</pre></div> </div></div></div></div></div><div class=\"sk-parallel-item\"><div class=\"sk-item\"><div class=\"sk-label-container\"><div class=\"sk-label fitted sk-toggleable\"><input class=\"sk-toggleable__control sk-hidden--visually\" id=\"sk-estimator-id-6\" type=\"checkbox\" ><label for=\"sk-estimator-id-6\" class=\"sk-toggleable__label fitted sk-toggleable__label-arrow\"><div><div>cat</div></div></label><div class=\"sk-toggleable__content fitted\"><pre>Index([&#x27;ethnicity&#x27;], dtype=&#x27;object&#x27;)</pre></div> </div></div><div class=\"sk-serial\"><div class=\"sk-item\"><div class=\"sk-estimator fitted sk-toggleable\"><input class=\"sk-toggleable__control sk-hidden--visually\" id=\"sk-estimator-id-7\" type=\"checkbox\" ><label for=\"sk-estimator-id-7\" class=\"sk-toggleable__label fitted sk-toggleable__label-arrow\"><div><div>OneHotEncoder</div></div><div><a class=\"sk-estimator-doc-link fitted\" rel=\"noreferrer\" target=\"_blank\" href=\"https://scikit-learn.org/1.6/modules/generated/sklearn.preprocessing.OneHotEncoder.html\">?<span>Documentation for OneHotEncoder</span></a></div></label><div class=\"sk-toggleable__content fitted\"><pre>OneHotEncoder(drop=&#x27;first&#x27;, sparse_output=False)</pre></div> </div></div></div></div></div></div></div><div class=\"sk-item sk-dashed-wrapped\"><div class=\"sk-label-container\"><div class=\"sk-label fitted sk-toggleable\"><input class=\"sk-toggleable__control sk-hidden--visually\" id=\"sk-estimator-id-8\" type=\"checkbox\" ><label for=\"sk-estimator-id-8\" class=\"sk-toggleable__label fitted sk-toggleable__label-arrow\"><div><div>feature_selector: SelectFromModel</div></div><div><a class=\"sk-estimator-doc-link fitted\" rel=\"noreferrer\" target=\"_blank\" href=\"https://scikit-learn.org/1.6/modules/generated/sklearn.feature_selection.SelectFromModel.html\">?<span>Documentation for feature_selector: SelectFromModel</span></a></div></label><div class=\"sk-toggleable__content fitted\"><pre>SelectFromModel(estimator=RandomForestClassifier(random_state=42),\n",
              "                max_features=20)</pre></div> </div></div><div class=\"sk-parallel\"><div class=\"sk-parallel-item\"><div class=\"sk-item\"><div class=\"sk-label-container\"><div class=\"sk-label fitted sk-toggleable\"><input class=\"sk-toggleable__control sk-hidden--visually\" id=\"sk-estimator-id-9\" type=\"checkbox\" ><label for=\"sk-estimator-id-9\" class=\"sk-toggleable__label fitted sk-toggleable__label-arrow\"><div><div>estimator: RandomForestClassifier</div></div></label><div class=\"sk-toggleable__content fitted\"><pre>RandomForestClassifier(random_state=42)</pre></div> </div></div><div class=\"sk-serial\"><div class=\"sk-item\"><div class=\"sk-estimator fitted sk-toggleable\"><input class=\"sk-toggleable__control sk-hidden--visually\" id=\"sk-estimator-id-10\" type=\"checkbox\" ><label for=\"sk-estimator-id-10\" class=\"sk-toggleable__label fitted sk-toggleable__label-arrow\"><div><div>RandomForestClassifier</div></div><div><a class=\"sk-estimator-doc-link fitted\" rel=\"noreferrer\" target=\"_blank\" href=\"https://scikit-learn.org/1.6/modules/generated/sklearn.ensemble.RandomForestClassifier.html\">?<span>Documentation for RandomForestClassifier</span></a></div></label><div class=\"sk-toggleable__content fitted\"><pre>RandomForestClassifier(random_state=42)</pre></div> </div></div></div></div></div></div></div><div class=\"sk-item\"><div class=\"sk-estimator fitted sk-toggleable\"><input class=\"sk-toggleable__control sk-hidden--visually\" id=\"sk-estimator-id-11\" type=\"checkbox\" ><label for=\"sk-estimator-id-11\" class=\"sk-toggleable__label fitted sk-toggleable__label-arrow\"><div><div>SMOTE</div></div></label><div class=\"sk-toggleable__content fitted\"><pre>SMOTE(random_state=42)</pre></div> </div></div><div class=\"sk-item\"><div class=\"sk-estimator fitted sk-toggleable\"><input class=\"sk-toggleable__control sk-hidden--visually\" id=\"sk-estimator-id-12\" type=\"checkbox\" ><label for=\"sk-estimator-id-12\" class=\"sk-toggleable__label fitted sk-toggleable__label-arrow\"><div><div>LogisticRegression</div></div><div><a class=\"sk-estimator-doc-link fitted\" rel=\"noreferrer\" target=\"_blank\" href=\"https://scikit-learn.org/1.6/modules/generated/sklearn.linear_model.LogisticRegression.html\">?<span>Documentation for LogisticRegression</span></a></div></label><div class=\"sk-toggleable__content fitted\"><pre>LogisticRegression(C=0.1, class_weight=&#x27;balanced&#x27;, max_iter=1000, penalty=&#x27;l1&#x27;,\n",
              "                   random_state=42, solver=&#x27;liblinear&#x27;)</pre></div> </div></div></div></div></div></div></div></div></div></div></div>"
            ],
            "text/plain": [
              "GridSearchCV(cv=StratifiedKFold(n_splits=5, random_state=42, shuffle=True),\n",
              "             estimator=Pipeline(steps=[('preprocessor',\n",
              "                                        ColumnTransformer(transformers=[('num',\n",
              "                                                                         StandardScaler(),\n",
              "                                                                         Index(['weight', 'aki_stage', 'gender', 'admission_age', 'hematocrit_min',\n",
              "       'hematocrit_max', 'hemoglobin_min', 'hemoglobin_max', 'platelets_min',\n",
              "       'platelets_max', 'wbc_min', 'wbc_max', 'anion...\n",
              "                                       ('smote', SMOTE(random_state=42)),\n",
              "                                       ('classifier',\n",
              "                                        LogisticRegression(class_weight='balanced',\n",
              "                                                           random_state=42))]),\n",
              "             param_grid={'classifier__C': [0.001, 0.01, 0.1, 1, 10, 100],\n",
              "                         'classifier__max_iter': [1000],\n",
              "                         'classifier__penalty': ['l1', 'l2'],\n",
              "                         'classifier__solver': ['liblinear', 'saga']},\n",
              "             refit='auc',\n",
              "             scoring={'auc': 'roc_auc', 'f1': 'f1', 'precision': 'precision',\n",
              "                      'recall': 'recall'})"
            ]
          },
          "execution_count": 13,
          "metadata": {},
          "output_type": "execute_result"
        }
      ],
      "source": [
        "# Fit the model\n",
        "grid_search.fit(X_train, y_train)\n",
        "\n"
      ]
    },
    {
      "cell_type": "code",
      "execution_count": 14,
      "metadata": {
        "id": "DEGSHYfSCW7i"
      },
      "outputs": [],
      "source": [
        "# Get best model\n",
        "best_model = grid_search.best_estimator_\n",
        "\n"
      ]
    },
    {
      "cell_type": "markdown",
      "metadata": {
        "id": "wFiDGRPVCW7j"
      },
      "source": [
        "Observation: Training the model using grid search and storing the best performing model."
      ]
    },
    {
      "cell_type": "markdown",
      "metadata": {
        "id": "OOU7ElpZCW7j"
      },
      "source": [
        "Evaluation Function Definition"
      ]
    },
    {
      "cell_type": "code",
      "execution_count": 15,
      "metadata": {
        "id": "5q3sFyvjCW7j"
      },
      "outputs": [],
      "source": [
        "# Function to evaluate model\n",
        "from sklearn.metrics import classification_report, confusion_matrix\n",
        "def evaluate_model(model, X, y, dataset_name=\"\"):\n",
        "    y_pred = model.predict(X)\n",
        "    y_pred_proba = model.predict_proba(X)[:, 1]\n",
        "\n",
        "    print(f\"\\n{dataset_name} Results:\")\n",
        "    print(\"ROC AUC:\", roc_auc_score(y, y_pred_proba))\n",
        "    print(\"Classification Report:\\n\", classification_report(y, y_pred))\n",
        "    print(\"Confusion Matrix:\\n\", confusion_matrix(y, y_pred))\n",
        "\n",
        "    # Calculate precision-recall curve\n",
        "    precision, recall, thresholds = precision_recall_curve(y, y_pred_proba)\n",
        "    print(\"Average Precision Score:\", average_precision_score(y, y_pred_proba))\n",
        "\n"
      ]
    },
    {
      "cell_type": "markdown",
      "metadata": {
        "id": "HgtMV7TwCW7k"
      },
      "source": [
        "Observation: Comprehensive evaluation function that calculates multiple metrics including ROC-AUC, precision, recall, and confusion matrix."
      ]
    },
    {
      "cell_type": "markdown",
      "metadata": {
        "id": "07YysxQuCW7k"
      },
      "source": [
        "Model Evaluation"
      ]
    },
    {
      "cell_type": "code",
      "execution_count": 16,
      "metadata": {
        "colab": {
          "base_uri": "https://localhost:8080/"
        },
        "id": "4sgXG_d9CW7k",
        "outputId": "166b3803-0f43-480d-b39f-1abe3f9c5f5b"
      },
      "outputs": [
        {
          "name": "stdout",
          "output_type": "stream",
          "text": [
            "\n",
            "Training Results:\n",
            "ROC AUC: 0.7738249507081298\n",
            "Classification Report:\n",
            "               precision    recall  f1-score   support\n",
            "\n",
            "           0       0.35      0.65      0.45       263\n",
            "           1       0.90      0.72      0.80      1159\n",
            "\n",
            "    accuracy                           0.71      1422\n",
            "   macro avg       0.63      0.69      0.63      1422\n",
            "weighted avg       0.80      0.71      0.74      1422\n",
            "\n",
            "Confusion Matrix:\n",
            " [[172  91]\n",
            " [322 837]]\n",
            "Average Precision Score: 0.933176535508764\n",
            "\n",
            "Test Results:\n",
            "ROC AUC: 0.6927899686520377\n",
            "Classification Report:\n",
            "               precision    recall  f1-score   support\n",
            "\n",
            "           0       0.32      0.55      0.40        66\n",
            "           1       0.88      0.73      0.80       290\n",
            "\n",
            "    accuracy                           0.70       356\n",
            "   macro avg       0.60      0.64      0.60       356\n",
            "weighted avg       0.77      0.70      0.73       356\n",
            "\n",
            "Confusion Matrix:\n",
            " [[ 36  30]\n",
            " [ 77 213]]\n",
            "Average Precision Score: 0.9005162165481735\n"
          ]
        }
      ],
      "source": [
        "# Evaluate on both train and test sets\n",
        "evaluate_model(best_model, X_train, y_train, \"Training\")\n",
        "evaluate_model(best_model, X_test, y_test, \"Test\")\n",
        "\n"
      ]
    },
    {
      "cell_type": "markdown",
      "metadata": {
        "id": "oKxiS4hkCW7l"
      },
      "source": [
        "Observation: Evaluating model performance on both training and test sets to assess potential overfitting."
      ]
    },
    {
      "cell_type": "markdown",
      "metadata": {
        "id": "xChwGzyICW7u"
      },
      "source": [
        "Feature Importance Function"
      ]
    },
    {
      "cell_type": "code",
      "execution_count": 17,
      "metadata": {
        "id": "0mlqH-iHCW7u"
      },
      "outputs": [],
      "source": [
        "# Get feature importance\n",
        "def get_feature_importance(model, feature_names):\n",
        "    # Get the logistic regression coefficients\n",
        "    if hasattr(model['classifier'], 'coef_'):\n",
        "        importance = np.abs(model['classifier'].coef_[0])\n",
        "        selected_features = model['feature_selector'].get_support()\n",
        "\n",
        "        # Get transformed feature names\n",
        "        transformed_features = []\n",
        "        numeric_features = numeric_columns.tolist()\n",
        "\n",
        "        # Add selected features only\n",
        "        feature_importance_dict = {}\n",
        "        idx = 0\n",
        "        for i, is_selected in enumerate(selected_features):\n",
        "            if is_selected:\n",
        "                feature_importance_dict[feature_names[i]] = importance[idx]\n",
        "                idx += 1\n",
        "\n",
        "        return sorted(feature_importance_dict.items(), key=lambda x: x[1], reverse=True)\n",
        "\n"
      ]
    },
    {
      "cell_type": "code",
      "execution_count": 18,
      "metadata": {
        "colab": {
          "base_uri": "https://localhost:8080/"
        },
        "id": "d2JqlieoCW7v",
        "outputId": "f07120cd-4622-4da6-8ee5-b67c4d37a466"
      },
      "outputs": [
        {
          "name": "stdout",
          "output_type": "stream",
          "text": [
            "\n",
            "Top 10 Most Important Features:\n",
            "aniongap_min: 0.6808\n",
            "creatinine_min: 0.6251\n",
            "resp_rate_mean: 0.3031\n",
            "pt_max: 0.2746\n",
            "potassium_min: 0.2704\n",
            "inr_max: 0.2677\n",
            "chloride_max: 0.2505\n",
            "aniongap_max: 0.1791\n",
            "wbc_max: 0.1743\n",
            "calcium_min: 0.1703\n"
          ]
        }
      ],
      "source": [
        "\n",
        "# Create feature importance visualization\n",
        "feature_importance = get_feature_importance(best_model, X.columns)\n",
        "print(\"\\nTop 10 Most Important Features:\")\n",
        "for feature, importance in feature_importance[:10]:\n",
        "    print(f\"{feature}: {importance:.4f}\")"
      ]
    },
    {
      "cell_type": "code",
      "execution_count": 20,
      "metadata": {
        "colab": {
          "base_uri": "https://localhost:8080/"
        },
        "id": "4zfQquV-DhIj",
        "outputId": "21feb722-f308-472b-9b35-f0fa9af00870"
      },
      "outputs": [
        {
          "name": "stdout",
          "output_type": "stream",
          "text": [
            "Collecting lime\n",
            "  Downloading lime-0.2.0.1.tar.gz (275 kB)\n",
            "\u001b[?25l     \u001b[90m━━━━━━━━━━━━━━━━━━━━━━━━━━━━━━━━━━━━━━━━\u001b[0m \u001b[32m0.0/275.7 kB\u001b[0m \u001b[31m?\u001b[0m eta \u001b[36m-:--:--\u001b[0m\r\u001b[2K     \u001b[91m━━━━━━━━━━━━━━━━━━━━━━━━━\u001b[0m\u001b[90m╺\u001b[0m\u001b[90m━━━━━━━━━━━━━━\u001b[0m \u001b[32m174.1/275.7 kB\u001b[0m \u001b[31m5.0 MB/s\u001b[0m eta \u001b[36m0:00:01\u001b[0m\r\u001b[2K     \u001b[90m━━━━━━━━━━━━━━━━━━━━━━━━━━━━━━━━━━━━━━━━\u001b[0m \u001b[32m275.7/275.7 kB\u001b[0m \u001b[31m4.8 MB/s\u001b[0m eta \u001b[36m0:00:00\u001b[0m\n",
            "\u001b[?25h  Preparing metadata (setup.py) ... \u001b[?25l\u001b[?25hdone\n",
            "Requirement already satisfied: matplotlib in /usr/local/lib/python3.11/dist-packages (from lime) (3.10.0)\n",
            "Requirement already satisfied: numpy in /usr/local/lib/python3.11/dist-packages (from lime) (1.26.4)\n",
            "Requirement already satisfied: scipy in /usr/local/lib/python3.11/dist-packages (from lime) (1.13.1)\n",
            "Requirement already satisfied: tqdm in /usr/local/lib/python3.11/dist-packages (from lime) (4.67.1)\n",
            "Requirement already satisfied: scikit-learn>=0.18 in /usr/local/lib/python3.11/dist-packages (from lime) (1.6.1)\n",
            "Requirement already satisfied: scikit-image>=0.12 in /usr/local/lib/python3.11/dist-packages (from lime) (0.25.2)\n",
            "Requirement already satisfied: networkx>=3.0 in /usr/local/lib/python3.11/dist-packages (from scikit-image>=0.12->lime) (3.4.2)\n",
            "Requirement already satisfied: pillow>=10.1 in /usr/local/lib/python3.11/dist-packages (from scikit-image>=0.12->lime) (11.1.0)\n",
            "Requirement already satisfied: imageio!=2.35.0,>=2.33 in /usr/local/lib/python3.11/dist-packages (from scikit-image>=0.12->lime) (2.37.0)\n",
            "Requirement already satisfied: tifffile>=2022.8.12 in /usr/local/lib/python3.11/dist-packages (from scikit-image>=0.12->lime) (2025.2.18)\n",
            "Requirement already satisfied: packaging>=21 in /usr/local/lib/python3.11/dist-packages (from scikit-image>=0.12->lime) (24.2)\n",
            "Requirement already satisfied: lazy-loader>=0.4 in /usr/local/lib/python3.11/dist-packages (from scikit-image>=0.12->lime) (0.4)\n",
            "Requirement already satisfied: joblib>=1.2.0 in /usr/local/lib/python3.11/dist-packages (from scikit-learn>=0.18->lime) (1.4.2)\n",
            "Requirement already satisfied: threadpoolctl>=3.1.0 in /usr/local/lib/python3.11/dist-packages (from scikit-learn>=0.18->lime) (3.5.0)\n",
            "Requirement already satisfied: contourpy>=1.0.1 in /usr/local/lib/python3.11/dist-packages (from matplotlib->lime) (1.3.1)\n",
            "Requirement already satisfied: cycler>=0.10 in /usr/local/lib/python3.11/dist-packages (from matplotlib->lime) (0.12.1)\n",
            "Requirement already satisfied: fonttools>=4.22.0 in /usr/local/lib/python3.11/dist-packages (from matplotlib->lime) (4.56.0)\n",
            "Requirement already satisfied: kiwisolver>=1.3.1 in /usr/local/lib/python3.11/dist-packages (from matplotlib->lime) (1.4.8)\n",
            "Requirement already satisfied: pyparsing>=2.3.1 in /usr/local/lib/python3.11/dist-packages (from matplotlib->lime) (3.2.1)\n",
            "Requirement already satisfied: python-dateutil>=2.7 in /usr/local/lib/python3.11/dist-packages (from matplotlib->lime) (2.8.2)\n",
            "Requirement already satisfied: six>=1.5 in /usr/local/lib/python3.11/dist-packages (from python-dateutil>=2.7->matplotlib->lime) (1.17.0)\n",
            "Building wheels for collected packages: lime\n",
            "  Building wheel for lime (setup.py) ... \u001b[?25l\u001b[?25hdone\n",
            "  Created wheel for lime: filename=lime-0.2.0.1-py3-none-any.whl size=283834 sha256=27b4e52e148fbc4fcff4fd427de77974cd8f4a4fa4049793d56c373490f68bc7\n",
            "  Stored in directory: /root/.cache/pip/wheels/85/fa/a3/9c2d44c9f3cd77cf4e533b58900b2bf4487f2a17e8ec212a3d\n",
            "Successfully built lime\n",
            "Installing collected packages: lime\n",
            "Successfully installed lime-0.2.0.1\n"
          ]
        }
      ],
      "source": [
        "!pip install lime"
      ]
    },
    {
      "cell_type": "code",
      "execution_count": 21,
      "metadata": {
        "colab": {
          "base_uri": "https://localhost:8080/",
          "height": 987
        },
        "id": "ftgHsKxiDYyV",
        "outputId": "31fa1667-ab62-44a6-8823-1e5f14b05856"
      },
      "outputs": [
        {
          "name": "stdout",
          "output_type": "stream",
          "text": [
            "X_selected shape: (356, 20)\n",
            "\n",
            "LIME Explanation in Tabular Form:\n",
            "Feature 10 > 0.57: -0.1199\n",
            "-0.69 < Feature 7 <= -0.19: 0.0865\n",
            "Feature 5 > 0.44: -0.0608\n",
            "Feature 2 <= -0.58: -0.0461\n",
            "Feature 16 > 0.74: -0.0437\n",
            "Feature 9 > 0.33: -0.0332\n",
            "-0.20 < Feature 3 <= 0.38: -0.0287\n",
            "Feature 18 > 0.66: 0.0270\n",
            "Feature 1 > 0.53: -0.0230\n",
            "-0.72 < Feature 6 <= -0.23: -0.0201\n"
          ]
        },
        {
          "data": {
            "image/png": "[encoded data removed]",
            "text/plain": [
              "<Figure size 1200x800 with 1 Axes>"
            ]
          },
          "metadata": {},
          "output_type": "display_data"
        }
      ],
      "source": [
        "import lime\n",
        "import lime.lime_tabular\n",
        "import numpy as np\n",
        "import matplotlib.pyplot as plt\n",
        "\n",
        "try:\n",
        "    # Get transformed data\n",
        "    X_transformed = best_model['preprocessor'].transform(X_test)\n",
        "    X_selected = best_model['feature_selector'].transform(X_transformed)\n",
        "\n",
        "    # Print shapes for debugging\n",
        "    print(\"X_selected shape:\", X_selected.shape)\n",
        "\n",
        "    # LIME Analysis\n",
        "    lime_explainer = lime.lime_tabular.LimeTabularExplainer(\n",
        "        X_selected, feature_names=[f'Feature {i}' for i in range(X_selected.shape[1])],\n",
        "        class_names=['No Dialysis', 'Early Dialysis'], discretize_continuous=True\n",
        "    )\n",
        "\n",
        "    # Explain a single prediction\n",
        "    i = 0  # Index of instance to explain\n",
        "    exp = lime_explainer.explain_instance(X_selected[i], best_model['classifier'].predict_proba, num_features=10)\n",
        "\n",
        "    # Display explanation as a table\n",
        "    print(\"\\nLIME Explanation in Tabular Form:\")\n",
        "    explanation_table = exp.as_list()\n",
        "    for feature, importance in explanation_table:\n",
        "        print(f\"{feature}: {importance:.4f}\")\n",
        "\n",
        "    # Plot LIME results as a horizontal bar chart\n",
        "    features, values = zip(*explanation_table)\n",
        "    y_pos = np.arange(len(features))\n",
        "\n",
        "    plt.figure(figsize=(12, 8))\n",
        "    plt.barh(y_pos, values, align='center')\n",
        "    plt.yticks(y_pos, features)\n",
        "    plt.xlabel('Feature Importance Score')\n",
        "    plt.title('LIME Feature Importance in Early Dialysis Prediction')\n",
        "\n",
        "    for i, v in enumerate(values):\n",
        "        plt.text(v, i, f' {v:.4f}', va='center')\n",
        "\n",
        "    plt.tight_layout()\n",
        "    plt.show()\n",
        "\n",
        "except Exception as e:\n",
        "    print(f\"Error occurred: {str(e)}\")\n"
      ]
    },
    {
      "cell_type": "markdown",
      "metadata": {
        "id": "J7YNgncXCW7v"
      },
      "source": [
        "Observation: Function to extract and visualize feature importance from the logistic regression model, showing the top 10 most influential features in predicting RRT delays."
      ]
    },
    {
      "cell_type": "code",
      "execution_count": 22,
      "metadata": {
        "colab": {
          "base_uri": "https://localhost:8080/",
          "height": 1000
        },
        "id": "dOuGgqJMFYXP",
        "outputId": "94bfd86c-ee66-413c-a613-9f6a55001090"
      },
      "outputs": [
        {
          "name": "stdout",
          "output_type": "stream",
          "text": [
            "X_selected shape: (356, 20)\n",
            "SHAP values shape: (356, 20)\n"
          ]
        },
        {
          "data": {
            "image/png": "[encoded data removed]",
            "text/plain": [
              "<Figure size 1200x800 with 1 Axes>"
            ]
          },
          "metadata": {},
          "output_type": "display_data"
        },
        {
          "name": "stdout",
          "output_type": "stream",
          "text": [
            "Error occurred: list index out of range\n",
            "\n",
            "Debug information:\n",
            "Type of shap_values: <class 'numpy.ndarray'>\n",
            "Shape of shap_values: (356, 20)\n"
          ]
        },
        {
          "data": {
            "image/png": "[encoded data removed]",
            "text/plain": [
              "<Figure size 800x950 with 2 Axes>"
            ]
          },
          "metadata": {},
          "output_type": "display_data"
        }
      ],
      "source": [
        "import shap\n",
        "import matplotlib.pyplot as plt\n",
        "import numpy as np\n",
        "\n",
        "try:\n",
        "    # Create SHAP explainer for logistic regression\n",
        "    explainer = shap.LinearExplainer(best_model['classifier'], best_model['feature_selector'].transform(best_model['preprocessor'].transform(X_train)))\n",
        "\n",
        "    # Transform test data\n",
        "    X_transformed = best_model['preprocessor'].transform(X_test)\n",
        "    X_selected = best_model['feature_selector'].transform(X_transformed)\n",
        "\n",
        "    # Print shapes for debugging\n",
        "    print(\"X_selected shape:\", X_selected.shape)\n",
        "\n",
        "    # Calculate SHAP values\n",
        "    shap_values = explainer.shap_values(X_selected)\n",
        "    print(\"SHAP values shape:\", np.array(shap_values).shape)\n",
        "\n",
        "    # Provided feature importance values\n",
        "    feature_importance = {\n",
        "        'aniongap_min': 0.6808,\n",
        "        'creatinine_min': 0.6251,\n",
        "        'resp_rate_mean': 0.3031,\n",
        "        'pt_max': 0.2746,\n",
        "        'potassium_min': 0.2704,\n",
        "        'inr_max': 0.2677,\n",
        "        'chloride_max': 0.2505,\n",
        "        'aniongap_max': 0.1791,\n",
        "        'wbc_max': 0.1743,\n",
        "        'calcium_min': 0.1703\n",
        "    }\n",
        "\n",
        "    # Plot feature importance as a bar chart\n",
        "    plt.figure(figsize=(12, 8))\n",
        "    features = list(feature_importance.keys())\n",
        "    values = list(feature_importance.values())\n",
        "\n",
        "    y_pos = np.arange(len(features))\n",
        "    plt.barh(y_pos, values, color='skyblue')\n",
        "    plt.yticks(y_pos, features)\n",
        "\n",
        "    # Customize the plot\n",
        "    plt.xlabel('Feature Importance Score')\n",
        "    plt.title('Feature Importance in Logistic Regression Model')\n",
        "\n",
        "    # Add value labels on the bars\n",
        "    for i, v in enumerate(values):\n",
        "        plt.text(v, i, f' {v:.4f}', va='center')\n",
        "\n",
        "    plt.tight_layout()\n",
        "    plt.show()\n",
        "\n",
        "    # SHAP summary plot\n",
        "    shap.summary_plot(shap_values, X_selected, feature_names=features)\n",
        "\n",
        "    # SHAP dependence plots for top features\n",
        "    for feature in features[:5]:  # Plot for top 5 features\n",
        "        shap.dependence_plot(feature, shap_values, X_selected, feature_names=features)\n",
        "\n",
        "    # Print the actual values\n",
        "    print(\"\\nFeature Importance Scores:\")\n",
        "    for feature, importance in feature_importance.items():\n",
        "        print(f\"{feature}: {importance:.4f}\")\n",
        "\n",
        "except Exception as e:\n",
        "    print(f\"Error occurred: {str(e)}\")\n",
        "    print(\"\\nDebug information:\")\n",
        "    if 'shap_values' in locals():\n",
        "        print(\"Type of shap_values:\", type(shap_values))\n",
        "        if isinstance(shap_values, (list, np.ndarray)):\n",
        "            print(\"Shape of shap_values:\", np.array(shap_values).shape)\n"
      ]
    }
  ],
  "metadata": {
    "colab": {
      "provenance": []
    },
    "kernelspec": {
      "display_name": "Python 3",
      "language": "python",
      "name": "python3"
    },
    "language_info": {
      "codemirror_mode": {
        "name": "ipython",
        "version": 3
      },
      "file_extension": ".py",
      "mimetype": "text/x-python",
      "name": "python",
      "nbconvert_exporter": "python",
      "pygments_lexer": "ipython3",
      "version": "3.11.9"
    }
  },
  "nbformat": 4,
  "nbformat_minor": 0
}
