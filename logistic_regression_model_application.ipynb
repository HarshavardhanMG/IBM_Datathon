{
 "cells": [
  {
   "cell_type": "markdown",
   "metadata": {},
   "source": [
    "Introduction:\n",
    "This machine learning implementation utilizes logistic regression to predict early dialysis requirements based on five critical clinical parameters. The model processes patient data through a comprehensive pipeline that includes SMOTE for handling imbalanced classes and GridSearchCV for hyperparameter optimization. The implementation focuses on key clinical indicators: anion gap, creatinine, respiratory rate, PT, and potassium levels. The code includes data preprocessing, model training, and a practical prediction function for clinical use. The solution maintains simplicity while ensuring robust statistical validation through cross-validation and balanced class handling."
   ]
  },
  {
   "cell_type": "code",
   "execution_count": 1,
   "metadata": {},
   "outputs": [
    {
     "name": "stdout",
     "output_type": "stream",
     "text": [
      "Classification Report:\n",
      "               precision    recall  f1-score   support\n",
      "\n",
      "           0       0.26      0.57      0.35        63\n",
      "           1       0.87      0.64      0.74       293\n",
      "\n",
      "    accuracy                           0.63       356\n",
      "   macro avg       0.56      0.61      0.55       356\n",
      "weighted avg       0.76      0.63      0.67       356\n",
      "\n",
      "Early dialysis is not required.\n"
     ]
    },
    {
     "name": "stderr",
     "output_type": "stream",
     "text": [
      "C:\\Users\\Harshvardhan\\AppData\\Local\\Packages\\PythonSoftwareFoundation.Python.3.11_qbz5n2kfra8p0\\LocalCache\\local-packages\\Python311\\site-packages\\sklearn\\base.py:493: UserWarning: X does not have valid feature names, but LogisticRegression was fitted with feature names\n",
      "  warnings.warn(\n"
     ]
    }
   ],
   "source": [
    "# Import necessary libraries\n",
    "import numpy as np\n",
    "import pandas as pd\n",
    "from sklearn.model_selection import train_test_split\n",
    "from sklearn.linear_model import LogisticRegression\n",
    "from sklearn.metrics import classification_report\n",
    "from imblearn.over_sampling import SMOTE\n",
    "from sklearn.model_selection import GridSearchCV\n",
    "\n",
    "# Load the dataset\n",
    "df = pd.read_csv('cleaned_data.csv')\n",
    "\n",
    "# Selecting the top 5 features and the target column\n",
    "features = ['aniongap_min', 'creatinine_min', 'resp_rate_mean', 'pt_max', 'potassium_min']\n",
    "\n",
    "# Drop rows with missing values in the selected columns\n",
    "df_clean = df.dropna(subset=features + ['delay_rrt'])\n",
    "\n",
    "# Splitting data into input features (X) and target (y)\n",
    "X = df_clean[features]\n",
    "y = df_clean['delay_rrt']\n",
    "\n",
    "# Splitting data into training and testing sets (80% train, 20% test)\n",
    "X_train, X_test, y_train, y_test = train_test_split(X, y, test_size=0.2, random_state=42)\n",
    "\n",
    "# Applying SMOTE to balance the dataset\n",
    "smote = SMOTE(random_state=42)\n",
    "X_resampled, y_resampled = smote.fit_resample(X_train, y_train)\n",
    "\n",
    "# Adjusting class weights to handle class imbalance\n",
    "param_grid = {'C': [0.01, 0.1, 1, 10, 100], 'solver': ['lbfgs', 'liblinear'], 'class_weight': ['balanced', None]}\n",
    "grid = GridSearchCV(LogisticRegression(max_iter=1000), param_grid, cv=5, scoring='precision')\n",
    "grid.fit(X_resampled, y_resampled)\n",
    "\n",
    "# Best hyperparameters and model\n",
    "best_model = grid.best_estimator_\n",
    "\n",
    "# Evaluating the model with the test set\n",
    "y_pred_balanced = best_model.predict(X_test)\n",
    "print(\"Classification Report:\\n\", classification_report(y_test, y_pred_balanced))\n",
    "\n",
    "# Function to predict early dialysis based on user input\n",
    "def predict_early_dialysis(aniongap_min, creatinine_min, resp_rate_mean, pt_max, potassium_min, model):\n",
    "    # Create a numpy array with the input data\n",
    "    input_data = np.array([[aniongap_min, creatinine_min, resp_rate_mean, pt_max, potassium_min]])\n",
    "    \n",
    "    # Use the trained model to predict the class (0 or 1)\n",
    "    prediction = model.predict(input_data)\n",
    "    \n",
    "    # Output the result\n",
    "    if prediction[0] == 1:\n",
    "        return \"Early dialysis is recommended.\"\n",
    "    else:\n",
    "        return \"Early dialysis is not required.\"\n",
    "\n",
    "# Example of user input and model prediction\n",
    "result = predict_early_dialysis(aniongap_min=26, creatinine_min=7.8, resp_rate_mean=20, pt_max=27.5, potassium_min=3.3, model=best_model)\n",
    "print(result)\n"
   ]
  },
  {
   "cell_type": "markdown",
   "metadata": {},
   "source": [
    " Observation:\n",
    "1.The model employs a focused approach using only five critical clinical parameters (anion gap, creatinine, respiratory rate, PT, potassium), making it streamlined for practical implementation.\n",
    "\n",
    "2.The implementation uses comprehensive class balancing techniques (SMOTE + class weights) and hyperparameter optimization (GridSearchCV), showing robust methodology.\n",
    "\n",
    "3.The prediction function is designed for direct clinical application, providing binary recommendations for early dialysis requirements.\n",
    "\n",
    "From Output Analysis:\n",
    "4. The model shows strong precision (0.87) for identifying dialysis cases, making it reliable for positive predictions and potentially valuable as a screening tool.\n",
    "\n",
    "5.However, the low precision (0.26) for non-dialysis cases indicates a high false positive rate, suggesting the model should be used as a supportive tool rather than a definitive decision-maker."
   ]
  }
 ],
 "metadata": {
  "kernelspec": {
   "display_name": "Python 3",
   "language": "python",
   "name": "python3"
  },
  "language_info": {
   "codemirror_mode": {
    "name": "ipython",
    "version": 3
   },
   "file_extension": ".py",
   "mimetype": "text/x-python",
   "name": "python",
   "nbconvert_exporter": "python",
   "pygments_lexer": "ipython3",
   "version": "3.11.9"
  }
 },
 "nbformat": 4,
 "nbformat_minor": 2
}
