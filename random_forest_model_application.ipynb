{
 "cells": [
  {
   "cell_type": "markdown",
   "metadata": {},
   "source": [
    "Introduction:\n",
    "This code implements a machine learning pipeline for medical prediction using a Random Forest classifier on patient data. The implementation includes comprehensive data preprocessing steps, including handling missing values and feature selection focusing on five key medical indicators (aniongap_min, creatinine_min, resp_rate_mean, pt_max, potassium_min). The pipeline incorporates SMOTE for handling class imbalance and uses RandomizedSearchCV for hyperparameter optimization of the Random Forest model. The code structure follows best practices with clear separation of data preparation, model training, and prediction functionality. A utility function is provided for making individual predictions based on patient metrics, making it practical for clinical application."
   ]
  },
  {
   "cell_type": "code",
   "execution_count": 1,
   "metadata": {},
   "outputs": [
    {
     "name": "stdout",
     "output_type": "stream",
     "text": [
      "Classification Report:\n",
      "               precision    recall  f1-score   support\n",
      "\n",
      "           0       0.29      0.29      0.29        63\n",
      "           1       0.85      0.85      0.85       293\n",
      "\n",
      "    accuracy                           0.75       356\n",
      "   macro avg       0.57      0.57      0.57       356\n",
      "weighted avg       0.75      0.75      0.75       356\n",
      "\n",
      "Early dialysis is recommended.\n"
     ]
    },
    {
     "name": "stderr",
     "output_type": "stream",
     "text": [
      "C:\\Users\\Harshvardhan\\AppData\\Local\\Packages\\PythonSoftwareFoundation.Python.3.11_qbz5n2kfra8p0\\LocalCache\\local-packages\\Python311\\site-packages\\sklearn\\base.py:493: UserWarning: X does not have valid feature names, but RandomForestClassifier was fitted with feature names\n",
      "  warnings.warn(\n"
     ]
    }
   ],
   "source": [
    "# Import necessary libraries\n",
    "import numpy as np\n",
    "import pandas as pd\n",
    "from sklearn.model_selection import train_test_split\n",
    "from sklearn.ensemble import RandomForestClassifier\n",
    "from sklearn.metrics import classification_report\n",
    "from imblearn.over_sampling import SMOTE\n",
    "from sklearn.model_selection import RandomizedSearchCV\n",
    "\n",
    "\n",
    "# Load the dataset\n",
    "df = pd.read_csv('cleaned_data.csv')\n",
    "\n",
    "# Selecting the top 5 features and the target column\n",
    "features = ['aniongap_min', 'creatinine_min', 'resp_rate_mean', 'pt_max', 'potassium_min']\n",
    "\n",
    "# Drop rows with missing values in the selected columns\n",
    "df_clean = df.dropna(subset=features + ['delay_rrt'])\n",
    "\n",
    "# Splitting data into input features (X) and target (y)\n",
    "X = df_clean[features]\n",
    "y = df_clean['delay_rrt']\n",
    "\n",
    "# Splitting data into training and testing sets (80% train, 20% test)\n",
    "X_train, X_test, y_train, y_test = train_test_split(X, y, test_size=0.2, random_state=42)\n",
    "\n",
    "# Applying SMOTE to balance the dataset\n",
    "smote = SMOTE(random_state=42)\n",
    "X_resampled, y_resampled = smote.fit_resample(X_train, y_train)\n",
    "\n",
    "# Hyperparameter tuning for Random Forest with class weights\n",
    "param_grid = {\n",
    "    'n_estimators': [100, 200],\n",
    "    'max_depth': [10, None],\n",
    "    'min_samples_split': [2, 5],\n",
    "    'class_weight': ['balanced']\n",
    "}\n",
    "\n",
    "# Use RandomizedSearchCV for a faster parameter search\n",
    "random_search = RandomizedSearchCV(\n",
    "    RandomForestClassifier(random_state=42), \n",
    "    param_grid, \n",
    "    cv=3, \n",
    "    scoring='precision', \n",
    "    n_iter=5, \n",
    "    random_state=42\n",
    ")\n",
    "# Train the model\n",
    "random_search.fit(X_resampled, y_resampled)\n",
    "\n",
    "# Get the best model\n",
    "best_model = random_search.best_estimator_\n",
    "\n",
    "# Evaluating the model with the test set\n",
    "y_pred_balanced = best_model.predict(X_test)\n",
    "print(\"Classification Report:\\n\", classification_report(y_test, y_pred_balanced))\n",
    "\n",
    "# Function to predict early dialysis based on user input\n",
    "def predict_early_dialysis(aniongap_min, creatinine_min, resp_rate_mean, pt_max, potassium_min, model):\n",
    "    # Create a numpy array with the input data\n",
    "    input_data = np.array([[aniongap_min, creatinine_min, resp_rate_mean, pt_max, potassium_min]])\n",
    "    \n",
    "    # Use the trained model to predict the class (0 or 1)\n",
    "    prediction = model.predict(input_data)\n",
    "    \n",
    "    # Output the result\n",
    "    if prediction[0] == 1:\n",
    "        return \"Early dialysis is recommended.\"\n",
    "    else:\n",
    "        return \"Early dialysis is not required.\"\n",
    "\n",
    "# Example of user input and model prediction\n",
    "result = predict_early_dialysis(aniongap_min=10, creatinine_min=2.0, resp_rate_mean=18, pt_max=30, potassium_min=4.5, model=best_model)\n",
    "print(result)\n"
   ]
  },
  {
   "cell_type": "markdown",
   "metadata": {},
   "source": [
    "Observations:\n",
    "\n",
    "1.Poor performance on minority class with precision, recall, and F1-score all at 0.29\n",
    "\n",
    "2.Strong performance on majority class with consistent metrics at 0.85\n",
    "\n",
    "3.Significant data imbalance in the test set (63 vs 293 samples)\n",
    "\n",
    "4.Large gap between macro average (0.57) and weighted average (0.75) indicates unbalanced performance\n",
    "\n",
    "5.Model shows consistent behavior within each class (similar precision and recall values)"
   ]
  }
 ],
 "metadata": {
  "kernelspec": {
   "display_name": "Python 3",
   "language": "python",
   "name": "python3"
  },
  "language_info": {
   "codemirror_mode": {
    "name": "ipython",
    "version": 3
   },
   "file_extension": ".py",
   "mimetype": "text/x-python",
   "name": "python",
   "nbconvert_exporter": "python",
   "pygments_lexer": "ipython3",
   "version": "3.11.9"
  }
 },
 "nbformat": 4,
 "nbformat_minor": 2
}
